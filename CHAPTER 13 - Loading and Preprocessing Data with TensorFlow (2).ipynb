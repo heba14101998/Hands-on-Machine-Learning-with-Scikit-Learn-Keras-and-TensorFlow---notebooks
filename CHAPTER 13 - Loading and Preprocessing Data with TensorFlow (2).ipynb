{
  "nbformat": 4,
  "nbformat_minor": 0,
  "metadata": {
    "colab": {
      "name": "CHAPTER 13 - Loading and Preprocessing Data with TensorFlow.ipynb",
      "provenance": [],
      "collapsed_sections": [
        "BveBrEPsS6d6",
        "U0W2hWRtXhBG",
        "wxs0HoAQYKjd",
        "-JvfDS_1eWy6",
        "h3hTYyLNc5YE",
        "_Fao70RdimST",
        "C09Q8lt8B9XI",
        "R3j-DaHWpR4g"
      ]
    },
    "kernelspec": {
      "name": "python3",
      "display_name": "Python 3"
    },
    "language_info": {
      "name": "python"
    }
  },
  "cells": [
    {
      "cell_type": "markdown",
      "metadata": {
        "id": "qXW2Jx6zCbyb"
      },
      "source": [
        "#<font color='#8010CA'> **Setup**"
      ]
    },
    {
      "cell_type": "code",
      "metadata": {
        "id": "znwh4-dfB9Wz",
        "colab": {
          "base_uri": "https://localhost:8080/"
        },
        "outputId": "aa3ff0d5-d8be-4610-9f02-d66124dfdc4e"
      },
      "source": [
        "# Python ≥3.5 is required\n",
        "import sys\n",
        "assert sys.version_info >= (3, 5)\n",
        "\n",
        "# Is this notebook running on Colab or Kaggle?\n",
        "IS_COLAB = \"google.colab\" in sys.modules\n",
        "IS_KAGGLE = \"kaggle_secrets\" in sys.modules\n",
        "\n",
        "if IS_COLAB or IS_KAGGLE:\n",
        "    !pip install -q -U tfx==0.21.2\n",
        "    print(\"You can safely ignore the package incompatibility errors.\")\n",
        "\n",
        "# Scikit-Learn ≥0.20 is required\n",
        "import sklearn\n",
        "assert sklearn.__version__ >= \"0.20\"\n",
        "\n",
        "# TensorFlow ≥2.0 is required\n",
        "import tensorflow as tf\n",
        "from tensorflow import keras\n",
        "assert tf.__version__ >= \"2.0\"\n",
        "\n",
        "# Common imports\n",
        "import numpy as np\n",
        "import os\n",
        "\n",
        "# to make this notebook's output stable across runs\n",
        "np.random.seed(42)\n",
        "\n",
        "# To plot pretty figures\n",
        "%matplotlib inline\n",
        "import matplotlib as mpl\n",
        "import matplotlib.pyplot as plt\n",
        "mpl.rc('axes', labelsize=14)\n",
        "mpl.rc('xtick', labelsize=12)\n",
        "mpl.rc('ytick', labelsize=12)\n",
        "\n",
        "# Where to save the figures\n",
        "PROJECT_ROOT_DIR = \".\"\n",
        "CHAPTER_ID = \"data\"\n",
        "IMAGES_PATH = os.path.join(PROJECT_ROOT_DIR, \"images\", CHAPTER_ID)\n",
        "os.makedirs(IMAGES_PATH, exist_ok=True)\n",
        "\n",
        "def save_fig(fig_id, tight_layout=True, fig_extension=\"png\", resolution=300):\n",
        "    path = os.path.join(IMAGES_PATH, fig_id + \".\" + fig_extension)\n",
        "    print(\"Saving figure\", fig_id)\n",
        "    if tight_layout:\n",
        "        plt.tight_layout()\n",
        "    plt.savefig(path, format=fig_extension, dpi=resolution)"
      ],
      "execution_count": null,
      "outputs": [
        {
          "output_type": "stream",
          "text": [
            "\u001b[K     |████████████████████████████████| 1.1 MB 7.6 MB/s \n",
            "\u001b[K     |████████████████████████████████| 147 kB 64.6 MB/s \n",
            "\u001b[K     |████████████████████████████████| 103 kB 44.7 MB/s \n",
            "\u001b[K     |████████████████████████████████| 1.5 MB 25.9 MB/s \n",
            "\u001b[K     |████████████████████████████████| 4.9 MB 45.2 MB/s \n",
            "\u001b[K     |████████████████████████████████| 636 kB 58.5 MB/s \n",
            "\u001b[K     |████████████████████████████████| 3.0 MB 42.4 MB/s \n",
            "\u001b[K     |████████████████████████████████| 59.2 MB 44 kB/s \n",
            "\u001b[K     |████████████████████████████████| 2.4 MB 47.4 MB/s \n",
            "\u001b[K     |████████████████████████████████| 241 kB 70.9 MB/s \n",
            "\u001b[K     |████████████████████████████████| 1.9 MB 37.1 MB/s \n",
            "\u001b[K     |████████████████████████████████| 1.2 MB 38.4 MB/s \n",
            "\u001b[K     |████████████████████████████████| 77 kB 5.4 MB/s \n",
            "\u001b[K     |████████████████████████████████| 218 kB 53.7 MB/s \n",
            "\u001b[K     |████████████████████████████████| 56 kB 4.2 MB/s \n",
            "\u001b[K     |████████████████████████████████| 151 kB 60.4 MB/s \n",
            "\u001b[K     |████████████████████████████████| 82 kB 1.0 MB/s \n",
            "\u001b[K     |████████████████████████████████| 232 kB 58.5 MB/s \n",
            "\u001b[K     |████████████████████████████████| 118 kB 58.5 MB/s \n",
            "\u001b[K     |████████████████████████████████| 172 kB 57.7 MB/s \n",
            "\u001b[K     |████████████████████████████████| 142 kB 39.4 MB/s \n",
            "\u001b[K     |████████████████████████████████| 52 kB 934 kB/s \n",
            "\u001b[K     |████████████████████████████████| 61 kB 24 kB/s \n",
            "\u001b[K     |████████████████████████████████| 61 kB 25 kB/s \n",
            "\u001b[K     |████████████████████████████████| 61 kB 5.9 MB/s \n",
            "\u001b[K     |████████████████████████████████| 61 kB 7.2 MB/s \n",
            "\u001b[K     |████████████████████████████████| 61 kB 7.1 MB/s \n",
            "\u001b[K     |████████████████████████████████| 61 kB 7.1 MB/s \n",
            "\u001b[K     |████████████████████████████████| 111 kB 52.5 MB/s \n",
            "\u001b[K     |████████████████████████████████| 458.3 MB 10 kB/s \n",
            "\u001b[K     |████████████████████████████████| 462 kB 54.7 MB/s \n",
            "\u001b[K     |████████████████████████████████| 4.3 MB 54.9 MB/s \n",
            "\u001b[K     |████████████████████████████████| 5.6 MB 51.8 MB/s \n",
            "\u001b[K     |████████████████████████████████| 1.3 MB 44.3 MB/s \n",
            "\u001b[K     |████████████████████████████████| 454.4 MB 8.8 kB/s \n",
            "\u001b[K     |████████████████████████████████| 394.5 MB 291 bytes/s \n",
            "\u001b[K     |████████████████████████████████| 462 kB 57.2 MB/s \n",
            "\u001b[K     |████████████████████████████████| 3.8 MB 41.3 MB/s \n",
            "\u001b[K     |████████████████████████████████| 2.9 MB 22.6 MB/s \n",
            "\u001b[K     |████████████████████████████████| 394.5 MB 35 kB/s \n",
            "\u001b[K     |████████████████████████████████| 394.3 MB 9.4 kB/s \n",
            "\u001b[K     |████████████████████████████████| 394.7 MB 17 kB/s \n",
            "\u001b[K     |████████████████████████████████| 320.6 MB 46 kB/s \n",
            "\u001b[K     |████████████████████████████████| 20.1 MB 1.4 MB/s \n",
            "\u001b[K     |████████████████████████████████| 459 kB 43.1 MB/s \n",
            "\u001b[K     |████████████████████████████████| 294 kB 45.7 MB/s \n",
            "\u001b[K     |████████████████████████████████| 10.4 MB 53.8 MB/s \n",
            "\u001b[K     |████████████████████████████████| 6.7 MB 18.2 MB/s \n",
            "\u001b[K     |████████████████████████████████| 516.4 MB 19 kB/s \n",
            "\u001b[K     |████████████████████████████████| 516.2 MB 22 kB/s \n",
            "\u001b[K     |████████████████████████████████| 516.2 MB 30 kB/s \n",
            "\u001b[K     |████████████████████████████████| 516.2 MB 4.8 kB/s \n",
            "\u001b[K     |████████████████████████████████| 422.0 MB 25 kB/s \n",
            "\u001b[K     |████████████████████████████████| 421.9 MB 12 kB/s \n",
            "\u001b[K     |████████████████████████████████| 421.8 MB 23 kB/s \n",
            "\u001b[K     |████████████████████████████████| 421.8 MB 43 kB/s \n",
            "\u001b[K     |████████████████████████████████| 421.8 MB 28 kB/s \n",
            "\u001b[K     |████████████████████████████████| 110.5 MB 528 bytes/s \n",
            "\u001b[K     |████████████████████████████████| 110.5 MB 12 kB/s \n",
            "\u001b[K     |████████████████████████████████| 110.5 MB 7.3 kB/s \n",
            "\u001b[K     |████████████████████████████████| 110.5 MB 34 kB/s \n",
            "\u001b[K     |████████████████████████████████| 412.3 MB 21 kB/s \n",
            "\u001b[K     |████████████████████████████████| 56 kB 3.9 MB/s \n",
            "\u001b[K     |████████████████████████████████| 119 kB 38.9 MB/s \n",
            "\u001b[K     |████████████████████████████████| 106 kB 62.9 MB/s \n",
            "\u001b[K     |████████████████████████████████| 108 kB 45.2 MB/s \n",
            "\u001b[K     |████████████████████████████████| 108 kB 64.2 MB/s \n",
            "\u001b[K     |████████████████████████████████| 107 kB 63.0 MB/s \n",
            "\u001b[K     |████████████████████████████████| 107 kB 64.4 MB/s \n",
            "\u001b[K     |████████████████████████████████| 107 kB 63.8 MB/s \n",
            "\u001b[K     |████████████████████████████████| 107 kB 66.4 MB/s \n",
            "\u001b[K     |████████████████████████████████| 106 kB 54.8 MB/s \n",
            "\u001b[K     |████████████████████████████████| 106 kB 64.3 MB/s \n",
            "\u001b[K     |████████████████████████████████| 106 kB 46.7 MB/s \n",
            "\u001b[K     |████████████████████████████████| 105 kB 46.6 MB/s \n",
            "\u001b[K     |████████████████████████████████| 104 kB 54.9 MB/s \n",
            "\u001b[K     |████████████████████████████████| 104 kB 54.1 MB/s \n",
            "\u001b[K     |████████████████████████████████| 104 kB 52.8 MB/s \n",
            "\u001b[K     |████████████████████████████████| 104 kB 54.2 MB/s \n",
            "\u001b[K     |████████████████████████████████| 103 kB 53.6 MB/s \n",
            "\u001b[K     |████████████████████████████████| 100 kB 9.0 MB/s \n",
            "\u001b[K     |████████████████████████████████| 99 kB 7.7 MB/s \n",
            "\u001b[K     |████████████████████████████████| 98 kB 7.7 MB/s \n",
            "\u001b[K     |████████████████████████████████| 98 kB 3.8 MB/s \n",
            "\u001b[K     |████████████████████████████████| 97 kB 6.8 MB/s \n",
            "\u001b[K     |████████████████████████████████| 97 kB 5.4 MB/s \n",
            "\u001b[K     |████████████████████████████████| 96 kB 2.8 MB/s \n",
            "\u001b[K     |████████████████████████████████| 53 kB 2.0 MB/s \n",
            "\u001b[K     |████████████████████████████████| 49 kB 3.4 MB/s \n",
            "\u001b[K     |████████████████████████████████| 48 kB 3.9 MB/s \n",
            "\u001b[K     |████████████████████████████████| 49 kB 3.8 MB/s \n",
            "\u001b[K     |████████████████████████████████| 40 kB 4.7 MB/s \n",
            "\u001b[K     |████████████████████████████████| 56 kB 3.5 MB/s \n",
            "\u001b[K     |████████████████████████████████| 56 kB 3.7 MB/s \n",
            "\u001b[K     |████████████████████████████████| 54 kB 2.6 MB/s \n",
            "\u001b[K     |████████████████████████████████| 54 kB 2.3 MB/s \n",
            "\u001b[K     |████████████████████████████████| 54 kB 1.8 MB/s \n",
            "\u001b[K     |████████████████████████████████| 178 kB 42.3 MB/s \n",
            "\u001b[31mERROR: Operation cancelled by user\u001b[0m\n",
            "\u001b[?25hTraceback (most recent call last):\n",
            "  File \"/usr/local/lib/python3.7/dist-packages/pip/_internal/cli/base_command.py\", line 180, in _main\n",
            "    status = self.run(options, args)\n",
            "  File \"/usr/local/lib/python3.7/dist-packages/pip/_internal/cli/req_command.py\", line 199, in wrapper\n",
            "    return func(self, options, args)\n",
            "  File \"/usr/local/lib/python3.7/dist-packages/pip/_internal/commands/install.py\", line 319, in run\n",
            "    reqs, check_supported_wheels=not options.target_dir\n",
            "  File \"/usr/local/lib/python3.7/dist-packages/pip/_internal/resolution/resolvelib/resolver.py\", line 128, in resolve\n",
            "    requirements, max_rounds=try_to_avoid_resolution_too_deep\n",
            "  File \"/usr/local/lib/python3.7/dist-packages/pip/_vendor/resolvelib/resolvers.py\", line 473, in resolve\n",
            "    state = resolution.resolve(requirements, max_rounds=max_rounds)\n",
            "  File \"/usr/local/lib/python3.7/dist-packages/pip/_vendor/resolvelib/resolvers.py\", line 367, in resolve\n",
            "    failure_causes = self._attempt_to_pin_criterion(name)\n",
            "  File \"/usr/local/lib/python3.7/dist-packages/pip/_vendor/resolvelib/resolvers.py\", line 213, in _attempt_to_pin_criterion\n",
            "    criteria = self._get_criteria_to_update(candidate)\n",
            "  File \"/usr/local/lib/python3.7/dist-packages/pip/_vendor/resolvelib/resolvers.py\", line 202, in _get_criteria_to_update\n",
            "    for r in self._p.get_dependencies(candidate=candidate):\n",
            "  File \"/usr/local/lib/python3.7/dist-packages/pip/_internal/resolution/resolvelib/provider.py\", line 175, in get_dependencies\n",
            "    return [r for r in candidate.iter_dependencies(with_requires) if r is not None]\n",
            "  File \"/usr/local/lib/python3.7/dist-packages/pip/_internal/resolution/resolvelib/provider.py\", line 175, in <listcomp>\n",
            "    return [r for r in candidate.iter_dependencies(with_requires) if r is not None]\n",
            "  File \"/usr/local/lib/python3.7/dist-packages/pip/_internal/resolution/resolvelib/candidates.py\", line 261, in iter_dependencies\n",
            "    yield self._factory.make_requirement_from_spec(str(r), self._ireq)\n",
            "  File \"/usr/local/lib/python3.7/dist-packages/pip/_internal/resolution/resolvelib/factory.py\", line 459, in make_requirement_from_spec\n",
            "    ireq = self._make_install_req_from_spec(specifier, comes_from)\n",
            "  File \"/usr/local/lib/python3.7/dist-packages/pip/_internal/req/constructors.py\", line 416, in install_req_from_req_string\n",
            "    req = Requirement(req_string)\n",
            "  File \"/usr/local/lib/python3.7/dist-packages/pip/_vendor/packaging/requirements.py\", line 113, in __init__\n",
            "    req = REQUIREMENT.parseString(requirement_string)\n",
            "  File \"/usr/local/lib/python3.7/dist-packages/pip/_vendor/pyparsing.py\", line 1943, in parseString\n",
            "    loc, tokens = self._parse(instring, 0)\n",
            "  File \"/usr/local/lib/python3.7/dist-packages/pip/_vendor/pyparsing.py\", line 1683, in _parseNoCache\n",
            "    loc, tokens = self.parseImpl(instring, preloc, doActions)\n",
            "  File \"/usr/local/lib/python3.7/dist-packages/pip/_vendor/pyparsing.py\", line 4069, in parseImpl\n",
            "    loc, exprtokens = e._parse(instring, loc, doActions)\n",
            "  File \"/usr/local/lib/python3.7/dist-packages/pip/_vendor/pyparsing.py\", line 1683, in _parseNoCache\n",
            "    loc, tokens = self.parseImpl(instring, preloc, doActions)\n",
            "  File \"/usr/local/lib/python3.7/dist-packages/pip/_vendor/pyparsing.py\", line 4254, in parseImpl\n",
            "    ret = e._parse(instring, loc, doActions)\n",
            "  File \"/usr/local/lib/python3.7/dist-packages/pip/_vendor/pyparsing.py\", line 1683, in _parseNoCache\n",
            "    loc, tokens = self.parseImpl(instring, preloc, doActions)\n",
            "  File \"/usr/local/lib/python3.7/dist-packages/pip/_vendor/pyparsing.py\", line 4052, in parseImpl\n",
            "    loc, resultlist = self.exprs[0]._parse(instring, loc, doActions, callPreParse=False)\n",
            "  File \"/usr/local/lib/python3.7/dist-packages/pip/_vendor/pyparsing.py\", line 1683, in _parseNoCache\n",
            "    loc, tokens = self.parseImpl(instring, preloc, doActions)\n",
            "  File \"/usr/local/lib/python3.7/dist-packages/pip/_vendor/pyparsing.py\", line 4069, in parseImpl\n",
            "    loc, exprtokens = e._parse(instring, loc, doActions)\n",
            "  File \"/usr/local/lib/python3.7/dist-packages/pip/_vendor/pyparsing.py\", line 1683, in _parseNoCache\n",
            "    loc, tokens = self.parseImpl(instring, preloc, doActions)\n",
            "  File \"/usr/local/lib/python3.7/dist-packages/pip/_vendor/pyparsing.py\", line 4849, in parseImpl\n",
            "    loc, tokens = self.expr._parse(instring, loc, doActions, callPreParse=False)\n",
            "  File \"/usr/local/lib/python3.7/dist-packages/pip/_vendor/pyparsing.py\", line 1683, in _parseNoCache\n",
            "    loc, tokens = self.parseImpl(instring, preloc, doActions)\n",
            "  File \"/usr/local/lib/python3.7/dist-packages/pip/_vendor/pyparsing.py\", line 4254, in parseImpl\n",
            "    ret = e._parse(instring, loc, doActions)\n",
            "  File \"/usr/local/lib/python3.7/dist-packages/pip/_vendor/pyparsing.py\", line 1683, in _parseNoCache\n",
            "    loc, tokens = self.parseImpl(instring, preloc, doActions)\n",
            "  File \"/usr/local/lib/python3.7/dist-packages/pip/_vendor/pyparsing.py\", line 4462, in parseImpl\n",
            "    return self.expr._parse(instring, loc, doActions, callPreParse=False)\n",
            "  File \"/usr/local/lib/python3.7/dist-packages/pip/_vendor/pyparsing.py\", line 1683, in _parseNoCache\n",
            "    loc, tokens = self.parseImpl(instring, preloc, doActions)\n",
            "  File \"/usr/local/lib/python3.7/dist-packages/pip/_vendor/pyparsing.py\", line 4052, in parseImpl\n",
            "    loc, resultlist = self.exprs[0]._parse(instring, loc, doActions, callPreParse=False)\n",
            "  File \"/usr/local/lib/python3.7/dist-packages/pip/_vendor/pyparsing.py\", line 1683, in _parseNoCache\n",
            "    loc, tokens = self.parseImpl(instring, preloc, doActions)\n",
            "  File \"/usr/local/lib/python3.7/dist-packages/pip/_vendor/pyparsing.py\", line 4132, in parseImpl\n",
            "    loc2 = e.tryParse(instring, loc)\n",
            "  File \"/usr/local/lib/python3.7/dist-packages/pip/_vendor/pyparsing.py\", line 1736, in tryParse\n",
            "    return self._parse(instring, loc, doActions=False)[0]\n",
            "  File \"/usr/local/lib/python3.7/dist-packages/pip/_vendor/pyparsing.py\", line 1687, in _parseNoCache\n",
            "    loc, tokens = self.parseImpl(instring, preloc, doActions)\n",
            "  File \"/usr/local/lib/python3.7/dist-packages/pip/_vendor/pyparsing.py\", line 3349, in parseImpl\n",
            "    ret[k] = v\n",
            "  File \"/usr/local/lib/python3.7/dist-packages/pip/_vendor/pyparsing.py\", line 612, in __setitem__\n",
            "    if isinstance(sub, ParseResults):\n",
            "KeyboardInterrupt\n",
            "\n",
            "During handling of the above exception, another exception occurred:\n",
            "\n",
            "Traceback (most recent call last):\n",
            "  File \"/usr/local/bin/pip3\", line 8, in <module>\n",
            "    sys.exit(main())\n",
            "  File \"/usr/local/lib/python3.7/dist-packages/pip/_internal/cli/main.py\", line 71, in main\n",
            "    return command.main(cmd_args)\n",
            "  File \"/usr/local/lib/python3.7/dist-packages/pip/_internal/cli/base_command.py\", line 104, in main\n",
            "    return self._main(args)\n",
            "  File \"/usr/local/lib/python3.7/dist-packages/pip/_internal/cli/base_command.py\", line 213, in _main\n",
            "    logger.debug(\"Exception information:\", exc_info=True)\n",
            "  File \"/usr/lib/python3.7/logging/__init__.py\", line 1366, in debug\n",
            "    self._log(DEBUG, msg, args, **kwargs)\n",
            "  File \"/usr/lib/python3.7/logging/__init__.py\", line 1514, in _log\n",
            "    self.handle(record)\n",
            "  File \"/usr/lib/python3.7/logging/__init__.py\", line 1524, in handle\n",
            "    self.callHandlers(record)\n",
            "  File \"/usr/lib/python3.7/logging/__init__.py\", line 1586, in callHandlers\n",
            "    hdlr.handle(record)\n",
            "  File \"/usr/lib/python3.7/logging/__init__.py\", line 894, in handle\n",
            "    self.emit(record)\n",
            "  File \"/usr/lib/python3.7/logging/handlers.py\", line 71, in emit\n",
            "    logging.FileHandler.emit(self, record)\n",
            "  File \"/usr/lib/python3.7/logging/__init__.py\", line 1127, in emit\n",
            "    StreamHandler.emit(self, record)\n",
            "  File \"/usr/lib/python3.7/logging/__init__.py\", line 1025, in emit\n",
            "    msg = self.format(record)\n",
            "  File \"/usr/lib/python3.7/logging/__init__.py\", line 869, in format\n",
            "    return fmt.format(record)\n",
            "  File \"/usr/local/lib/python3.7/dist-packages/pip/_internal/utils/logging.py\", line 130, in format\n",
            "    formatted = super().format(record)\n",
            "  File \"/usr/lib/python3.7/logging/__init__.py\", line 616, in format\n",
            "    record.exc_text = self.formatException(record.exc_info)\n",
            "  File \"/usr/lib/python3.7/logging/__init__.py\", line 566, in formatException\n",
            "    traceback.print_exception(ei[0], ei[1], tb, None, sio)\n",
            "  File \"/usr/lib/python3.7/traceback.py\", line 104, in print_exception\n",
            "    type(value), value, tb, limit=limit).format(chain=chain):\n",
            "  File \"/usr/lib/python3.7/traceback.py\", line 465, in __init__\n",
            "    def __init__(self, exc_type, exc_value, exc_traceback, *, limit=None,\n",
            "KeyboardInterrupt\n",
            "You can safely ignore the package incompatibility errors.\n"
          ],
          "name": "stdout"
        }
      ]
    },
    {
      "cell_type": "markdown",
      "metadata": {
        "id": "9zUKPycWCIKC"
      },
      "source": [
        "#<font color='#8010CA'> **The Data API**\n",
        "\n",
        "The `tf.data` API enables you to build complex input pipelines from simple, reusable pieces. `tf.data` also makes it possible to handle large amount of data, reading from different data formats, and perform complex transformation."
      ]
    },
    {
      "cell_type": "code",
      "metadata": {
        "colab": {
          "base_uri": "https://localhost:8080/"
        },
        "id": "YSxWbTG1Fl8I",
        "outputId": "9cbc3564-71bd-4df2-b441-a468d2742c99"
      },
      "source": [
        "X = tf.range(10)\n",
        "dataset = tf.data.Dataset.from_tensor_slices(X)\n",
        "dataset"
      ],
      "execution_count": null,
      "outputs": [
        {
          "output_type": "execute_result",
          "data": {
            "text/plain": [
              "<TensorSliceDataset shapes: (), types: tf.int32>"
            ]
          },
          "metadata": {
            "tags": []
          },
          "execution_count": 16
        }
      ]
    },
    {
      "cell_type": "markdown",
      "metadata": {
        "id": "YcERH-BwB9W3"
      },
      "source": [
        "Equivalently:"
      ]
    },
    {
      "cell_type": "code",
      "metadata": {
        "colab": {
          "base_uri": "https://localhost:8080/"
        },
        "id": "GH3fsoR9Fu7a",
        "outputId": "c70674d6-f38b-415b-e7b1-0ef6173120f8"
      },
      "source": [
        "dataset = tf.data.Dataset.range(10)\n",
        "for item in dataset:\n",
        "  print(item)"
      ],
      "execution_count": null,
      "outputs": [
        {
          "output_type": "stream",
          "text": [
            "tf.Tensor(0, shape=(), dtype=int64)\n",
            "tf.Tensor(1, shape=(), dtype=int64)\n",
            "tf.Tensor(2, shape=(), dtype=int64)\n",
            "tf.Tensor(3, shape=(), dtype=int64)\n",
            "tf.Tensor(4, shape=(), dtype=int64)\n",
            "tf.Tensor(5, shape=(), dtype=int64)\n",
            "tf.Tensor(6, shape=(), dtype=int64)\n",
            "tf.Tensor(7, shape=(), dtype=int64)\n",
            "tf.Tensor(8, shape=(), dtype=int64)\n",
            "tf.Tensor(9, shape=(), dtype=int64)\n"
          ],
          "name": "stdout"
        }
      ]
    },
    {
      "cell_type": "markdown",
      "metadata": {
        "id": "rgI7mHWxGyq4"
      },
      "source": [
        "## <font color='#E123EC'> **Chaining Transformations**</font>\n",
        "<center>\n",
        "<img src='https://img-blog.csdnimg.cn/20200731145335575.png?x-oss-process=image/watermark,type_ZmFuZ3poZW5naGVpdGk,shadow_10,text_aHR0cHM6Ly9ibG9nLmNzZG4ubmV0L0xpbmxpNTIyMzYyMjQy,size_16,color_FFFFFF,t_70' width = '600' height = '200' /> <figcaption> Chaining Dataset Transformations </figcaption>\n",
        "</center>\n",
        "\n",
        "\n",
        "1. Call the` repeat() `method on the original dataset.\n",
        "2. Then we call the` batch() `method to  group the items of the previous dataset in batches of 7 items.\n",
        "\n",
        "\n",
        "\n"
      ]
    },
    {
      "cell_type": "code",
      "metadata": {
        "colab": {
          "base_uri": "https://localhost:8080/"
        },
        "id": "OvNS-Pg3GJjS",
        "outputId": "69fc502b-6ae3-4a24-87fd-298b57d44b44"
      },
      "source": [
        "dataset = dataset.repeat(3).batch(7)\n",
        "for item in dataset:\n",
        "  print(item)"
      ],
      "execution_count": null,
      "outputs": [
        {
          "output_type": "stream",
          "text": [
            "tf.Tensor([0 1 2 3 4 5 6], shape=(7,), dtype=int64)\n",
            "tf.Tensor([7 8 9 0 1 2 3], shape=(7,), dtype=int64)\n",
            "tf.Tensor([4 5 6 7 8 9 0], shape=(7,), dtype=int64)\n",
            "tf.Tensor([1 2 3 4 5 6 7], shape=(7,), dtype=int64)\n",
            "tf.Tensor([8 9], shape=(2,), dtype=int64)\n"
          ],
          "name": "stdout"
        }
      ]
    },
    {
      "cell_type": "code",
      "metadata": {
        "colab": {
          "base_uri": "https://localhost:8080/"
        },
        "id": "HtMqZzcUGSUx",
        "outputId": "121301b3-9f7d-4d50-d25a-0858f00ffe1e"
      },
      "source": [
        "dataset = dataset.map(lambda x:x * 2)\n",
        "for item in dataset:\n",
        "    print(item)"
      ],
      "execution_count": null,
      "outputs": [
        {
          "output_type": "stream",
          "text": [
            "tf.Tensor([ 0  2  4  6  8 10 12], shape=(7,), dtype=int64)\n",
            "tf.Tensor([14 16 18  0  2  4  6], shape=(7,), dtype=int64)\n",
            "tf.Tensor([ 8 10 12 14 16 18  0], shape=(7,), dtype=int64)\n",
            "tf.Tensor([ 2  4  6  8 10 12 14], shape=(7,), dtype=int64)\n",
            "tf.Tensor([16 18], shape=(2,), dtype=int64)\n"
          ],
          "name": "stdout"
        }
      ]
    },
    {
      "cell_type": "code",
      "metadata": {
        "colab": {
          "base_uri": "https://localhost:8080/"
        },
        "id": "IikOwETKGg_k",
        "outputId": "1d83c5ff-0286-47ea-a8ec-a63863eccd9d"
      },
      "source": [
        "#the apply() method applies a transformation to the dataset as a whole\n",
        "\n",
        "dataset = dataset.apply(tf.data.experimental.unbatch())\n",
        "for item in dataset:\n",
        "    print(item)"
      ],
      "execution_count": null,
      "outputs": [
        {
          "output_type": "stream",
          "text": [
            "tf.Tensor(0, shape=(), dtype=int64)\n",
            "tf.Tensor(2, shape=(), dtype=int64)\n",
            "tf.Tensor(4, shape=(), dtype=int64)\n",
            "tf.Tensor(6, shape=(), dtype=int64)\n",
            "tf.Tensor(8, shape=(), dtype=int64)\n",
            "tf.Tensor(10, shape=(), dtype=int64)\n",
            "tf.Tensor(12, shape=(), dtype=int64)\n",
            "tf.Tensor(14, shape=(), dtype=int64)\n",
            "tf.Tensor(16, shape=(), dtype=int64)\n",
            "tf.Tensor(18, shape=(), dtype=int64)\n",
            "tf.Tensor(0, shape=(), dtype=int64)\n",
            "tf.Tensor(2, shape=(), dtype=int64)\n",
            "tf.Tensor(4, shape=(), dtype=int64)\n",
            "tf.Tensor(6, shape=(), dtype=int64)\n",
            "tf.Tensor(8, shape=(), dtype=int64)\n",
            "tf.Tensor(10, shape=(), dtype=int64)\n",
            "tf.Tensor(12, shape=(), dtype=int64)\n",
            "tf.Tensor(14, shape=(), dtype=int64)\n",
            "tf.Tensor(16, shape=(), dtype=int64)\n",
            "tf.Tensor(18, shape=(), dtype=int64)\n",
            "tf.Tensor(0, shape=(), dtype=int64)\n",
            "tf.Tensor(2, shape=(), dtype=int64)\n",
            "tf.Tensor(4, shape=(), dtype=int64)\n",
            "tf.Tensor(6, shape=(), dtype=int64)\n",
            "tf.Tensor(8, shape=(), dtype=int64)\n",
            "tf.Tensor(10, shape=(), dtype=int64)\n",
            "tf.Tensor(12, shape=(), dtype=int64)\n",
            "tf.Tensor(14, shape=(), dtype=int64)\n",
            "tf.Tensor(16, shape=(), dtype=int64)\n",
            "tf.Tensor(18, shape=(), dtype=int64)\n"
          ],
          "name": "stdout"
        }
      ]
    },
    {
      "cell_type": "code",
      "metadata": {
        "colab": {
          "base_uri": "https://localhost:8080/"
        },
        "id": "UpM_UzeEGqle",
        "outputId": "7129b4ea-10ef-46a5-e3d3-d501b09d3d25"
      },
      "source": [
        "dataset = dataset.filter(lambda x: x < 10) \n",
        "for item in dataset:\n",
        "    print(item)"
      ],
      "execution_count": null,
      "outputs": [
        {
          "output_type": "stream",
          "text": [
            "tf.Tensor(0, shape=(), dtype=int64)\n",
            "tf.Tensor(2, shape=(), dtype=int64)\n",
            "tf.Tensor(4, shape=(), dtype=int64)\n",
            "tf.Tensor(6, shape=(), dtype=int64)\n",
            "tf.Tensor(8, shape=(), dtype=int64)\n",
            "tf.Tensor(0, shape=(), dtype=int64)\n",
            "tf.Tensor(2, shape=(), dtype=int64)\n",
            "tf.Tensor(4, shape=(), dtype=int64)\n",
            "tf.Tensor(6, shape=(), dtype=int64)\n",
            "tf.Tensor(8, shape=(), dtype=int64)\n",
            "tf.Tensor(0, shape=(), dtype=int64)\n",
            "tf.Tensor(2, shape=(), dtype=int64)\n",
            "tf.Tensor(4, shape=(), dtype=int64)\n",
            "tf.Tensor(6, shape=(), dtype=int64)\n",
            "tf.Tensor(8, shape=(), dtype=int64)\n"
          ],
          "name": "stdout"
        }
      ]
    },
    {
      "cell_type": "code",
      "metadata": {
        "colab": {
          "base_uri": "https://localhost:8080/"
        },
        "id": "NA51Om3fL93y",
        "outputId": "540d528f-c4ce-417d-9e37-0c70c5efe8c0"
      },
      "source": [
        "# You will often want to look at just a few items from a dataset. \n",
        "# You can use the take() method for that\n",
        "\n",
        "for item in dataset.take(3):\n",
        "    print(item)"
      ],
      "execution_count": null,
      "outputs": [
        {
          "output_type": "stream",
          "text": [
            "tf.Tensor(0, shape=(), dtype=int64)\n",
            "tf.Tensor(2, shape=(), dtype=int64)\n",
            "tf.Tensor(4, shape=(), dtype=int64)\n"
          ],
          "name": "stdout"
        }
      ]
    },
    {
      "cell_type": "markdown",
      "metadata": {
        "id": "LVclueTOM_ps"
      },
      "source": [
        "## <font color='#E123EC'> **Shuffling the Data**</font>\n",
        "\n",
        "The `shuffle()` method will create a new dataset that will start by filling up a buffer with the first items of the source dataset, then whenever it is asked for an item, it will pull one out randomly from the buffer, and replace it with a fresh one from the source dataset\n",
        "\n",
        "* You must specify the buffer size, and it is important to make it large enough or else shuffling will not be very efficient.\n",
        "\n",
        "* However, obviously do not exceed the amount of RAM you have.\n",
        "\n",
        "* You can provide a random seed if you want the same random order every time you run your program."
      ]
    },
    {
      "cell_type": "code",
      "metadata": {
        "colab": {
          "base_uri": "https://localhost:8080/"
        },
        "id": "LnVesUFgMT_Z",
        "outputId": "dafe3148-9d63-4593-c9c8-215167bb731c"
      },
      "source": [
        "tf.random.set_seed(2021)\n",
        "\n",
        "dataset = tf.data.Dataset.range(10).repeat(3)\n",
        "dataset = dataset.shuffle(buffer_size = 3, seed = 2021).batch(7)\n",
        "\n",
        "for item in dataset:\n",
        "  print(item)"
      ],
      "execution_count": null,
      "outputs": [
        {
          "output_type": "stream",
          "text": [
            "tf.Tensor([0 3 4 1 2 6 5], shape=(7,), dtype=int64)\n",
            "tf.Tensor([7 8 9 2 0 1 5], shape=(7,), dtype=int64)\n",
            "tf.Tensor([3 4 8 7 6 1 2], shape=(7,), dtype=int64)\n",
            "tf.Tensor([9 4 3 5 6 7 9], shape=(7,), dtype=int64)\n",
            "tf.Tensor([0 8], shape=(2,), dtype=int64)\n"
          ],
          "name": "stdout"
        }
      ]
    },
    {
      "cell_type": "markdown",
      "metadata": {
        "id": "dpgyjL0aOMgw"
      },
      "source": [
        "If you call `repeat()` on a shuffled dataset, by default it will generate a new order at every iteration. This is generally a good idea."
      ]
    },
    {
      "cell_type": "code",
      "metadata": {
        "colab": {
          "base_uri": "https://localhost:8080/"
        },
        "id": "5PWZfmS0OL-W",
        "outputId": "1cc12434-238c-4a47-c606-2af112e374fc"
      },
      "source": [
        "tf.random.set_seed(2021)\n",
        "\n",
        "dataset = tf.data.Dataset.range(10)\n",
        "dataset = dataset.shuffle(buffer_size = 3, seed = 2021).repeat(3).batch(7)\n",
        "\n",
        "for item in dataset:\n",
        "  print(item)"
      ],
      "execution_count": null,
      "outputs": [
        {
          "output_type": "stream",
          "text": [
            "tf.Tensor([0 3 4 1 2 6 5], shape=(7,), dtype=int64)\n",
            "tf.Tensor([7 9 8 2 0 1 5], shape=(7,), dtype=int64)\n",
            "tf.Tensor([6 4 3 8 9 7 2], shape=(7,), dtype=int64)\n",
            "tf.Tensor([0 1 3 6 4 7 8], shape=(7,), dtype=int64)\n",
            "tf.Tensor([5 9], shape=(2,), dtype=int64)\n"
          ],
          "name": "stdout"
        }
      ]
    },
    {
      "cell_type": "markdown",
      "metadata": {
        "id": "4ZHK2SJgOT-Z"
      },
      "source": [
        "But if you prefer to reuse the same order at each iteration (e.g., for tests or debugging), you can set `reshuffle_each_iteration=False`."
      ]
    },
    {
      "cell_type": "code",
      "metadata": {
        "colab": {
          "base_uri": "https://localhost:8080/"
        },
        "id": "trvIETZuMyDL",
        "outputId": "cc6f8452-35a0-4d6d-d009-4c250391ed60"
      },
      "source": [
        "tf.random.set_seed(2021)\n",
        "\n",
        "dataset = tf.data.Dataset.range(10)\n",
        "dataset = dataset.shuffle(buffer_size = 3, seed = 2021, reshuffle_each_iteration=False).repeat(3).batch(7)\n",
        "\n",
        "for item in dataset:\n",
        "  print(item)"
      ],
      "execution_count": null,
      "outputs": [
        {
          "output_type": "stream",
          "text": [
            "tf.Tensor([2 0 3 1 4 6 8], shape=(7,), dtype=int64)\n",
            "tf.Tensor([7 5 9 2 0 3 1], shape=(7,), dtype=int64)\n",
            "tf.Tensor([4 6 8 7 5 9 2], shape=(7,), dtype=int64)\n",
            "tf.Tensor([0 3 1 4 6 8 7], shape=(7,), dtype=int64)\n",
            "tf.Tensor([5 9], shape=(2,), dtype=int64)\n"
          ],
          "name": "stdout"
        }
      ]
    },
    {
      "cell_type": "markdown",
      "metadata": {
        "id": "iEOXttckPU1d"
      },
      "source": [
        "### <font color='#0C92AC'>Split the California dataset to multiple CSV file</font>\n",
        "\n",
        "1. Loading the California housing dataset.\n",
        "2. Split it into a training set, a validation set and a test set.\n",
        "3. Scaling."
      ]
    },
    {
      "cell_type": "code",
      "metadata": {
        "id": "jqX-ag-YOgLg"
      },
      "source": [
        "from sklearn.datasets import fetch_california_housing\n",
        "from sklearn.model_selection import train_test_split\n",
        "from sklearn.preprocessing import StandardScaler\n",
        "\n",
        "housing = fetch_california_housing()\n",
        "\n",
        "X_train_full, X_test, y_train_full, y_test = train_test_split(housing.data, \n",
        "                                                              housing.target.reshape(-1, 1), \n",
        "                                                              random_state = 2021)"
      ],
      "execution_count": null,
      "outputs": []
    },
    {
      "cell_type": "code",
      "metadata": {
        "id": "Kcavg0c1QpTt"
      },
      "source": [
        "X_train, X_valid, y_train, y_valid = train_test_split(X_train_full, y_train_full, random_state = 2021)"
      ],
      "execution_count": null,
      "outputs": []
    },
    {
      "cell_type": "code",
      "metadata": {
        "colab": {
          "base_uri": "https://localhost:8080/"
        },
        "id": "zB-2n-GrQ24W",
        "outputId": "4ec343b7-f914-4b0b-8d2c-2e65ff6ce27e"
      },
      "source": [
        "scaler = StandardScaler()\n",
        "scaler.fit(X_train)\n",
        "\n",
        "X_mean = scaler.mean_\n",
        "X_std = scaler.scale_\n",
        "\n",
        "print('X_mean: \\n', X_mean,'\\n')\n",
        "print('X_std: \\n',X_std)"
      ],
      "execution_count": null,
      "outputs": [
        {
          "output_type": "stream",
          "text": [
            "X_mean: \n",
            " [ 3.85763660e+00  2.85744186e+01  5.44455540e+00  1.10197361e+00\n",
            "  1.43576770e+03  3.11793335e+00  3.56557562e+01 -1.19588749e+02] \n",
            "\n",
            "X_std: \n",
            " [1.86262326e+00 1.25791421e+01 2.58839355e+00 4.68147637e-01\n",
            " 1.13417536e+03 1.26558919e+01 2.14186145e+00 2.00850481e+00]\n"
          ],
          "name": "stdout"
        }
      ]
    },
    {
      "cell_type": "markdown",
      "metadata": {
        "id": "TGlUkV6mB9W7"
      },
      "source": [
        "For a very large dataset that does not fit in memory, you will typically want to split it into many files first, then have TensorFlow read these files in parallel. To demonstrate this, let's start by splitting the housing dataset and save it to 20 CSV files:"
      ]
    },
    {
      "cell_type": "code",
      "metadata": {
        "id": "RKPZtxqeRCJH"
      },
      "source": [
        "def save_to_multiple_csv_files(data, name_prefix, header=None, n_parts=10):\n",
        "    housing_dir = os.path.join(\"datasets\", \"housing\")\n",
        "    os.makedirs(housing_dir, exist_ok=True)\n",
        "    path_format = os.path.join(housing_dir, \"my_{}_{:02d}.csv\")\n",
        "\n",
        "    filepaths = []\n",
        "    m = len(data)\n",
        "    for file_idx, row_indices in enumerate(np.array_split(np.arange(m), n_parts)):\n",
        "        part_csv = path_format.format(name_prefix, file_idx)\n",
        "        filepaths.append(part_csv)\n",
        "        with open(part_csv, \"wt\", encoding=\"utf-8\") as f:\n",
        "            if header is not None:\n",
        "                f.write(header)\n",
        "                f.write(\"\\n\")\n",
        "            for row_idx in row_indices:\n",
        "                f.write(\",\".join([repr(col) for col in data[row_idx]]))\n",
        "                f.write(\"\\n\")\n",
        "    return filepaths"
      ],
      "execution_count": null,
      "outputs": []
    },
    {
      "cell_type": "code",
      "metadata": {
        "id": "YflgkbEkTv0-"
      },
      "source": [
        "train_data = np.c_[X_train, y_train]\n",
        "valid_data = np.c_[X_valid, y_valid]\n",
        "test_data = np.c_[X_test, y_test]\n",
        "header_cols = housing.feature_names + [\"MedianHouseValue\"]\n",
        "header = \",\".join(header_cols)\n",
        "\n",
        "train_filepaths = save_to_multiple_csv_files(train_data, \"train\", header, n_parts=20)\n",
        "valid_filepaths = save_to_multiple_csv_files(valid_data, \"valid\", header, n_parts=10)\n",
        "test_filepaths = save_to_multiple_csv_files(test_data, \"test\", header, n_parts=10)"
      ],
      "execution_count": null,
      "outputs": []
    },
    {
      "cell_type": "code",
      "metadata": {
        "colab": {
          "base_uri": "https://localhost:8080/",
          "height": 223
        },
        "id": "rG8bfCv_Ul6A",
        "outputId": "347c18ee-cd5a-45e2-f1e9-d20e5850de3c"
      },
      "source": [
        "import pandas as pd\n",
        "\n",
        "pd.read_csv(train_filepaths[0]).head()"
      ],
      "execution_count": null,
      "outputs": [
        {
          "output_type": "execute_result",
          "data": {
            "text/html": [
              "<div>\n",
              "<style scoped>\n",
              "    .dataframe tbody tr th:only-of-type {\n",
              "        vertical-align: middle;\n",
              "    }\n",
              "\n",
              "    .dataframe tbody tr th {\n",
              "        vertical-align: top;\n",
              "    }\n",
              "\n",
              "    .dataframe thead th {\n",
              "        text-align: right;\n",
              "    }\n",
              "</style>\n",
              "<table border=\"1\" class=\"dataframe\">\n",
              "  <thead>\n",
              "    <tr style=\"text-align: right;\">\n",
              "      <th></th>\n",
              "      <th>MedInc</th>\n",
              "      <th>HouseAge</th>\n",
              "      <th>AveRooms</th>\n",
              "      <th>AveBedrms</th>\n",
              "      <th>Population</th>\n",
              "      <th>AveOccup</th>\n",
              "      <th>Latitude</th>\n",
              "      <th>Longitude</th>\n",
              "      <th>MedianHouseValue</th>\n",
              "    </tr>\n",
              "  </thead>\n",
              "  <tbody>\n",
              "    <tr>\n",
              "      <th>0</th>\n",
              "      <td>2.7411</td>\n",
              "      <td>14.0</td>\n",
              "      <td>4.285714</td>\n",
              "      <td>1.476190</td>\n",
              "      <td>134.0</td>\n",
              "      <td>1.595238</td>\n",
              "      <td>37.30</td>\n",
              "      <td>-121.87</td>\n",
              "      <td>1.125</td>\n",
              "    </tr>\n",
              "    <tr>\n",
              "      <th>1</th>\n",
              "      <td>1.8750</td>\n",
              "      <td>24.0</td>\n",
              "      <td>3.439227</td>\n",
              "      <td>1.038674</td>\n",
              "      <td>1230.0</td>\n",
              "      <td>3.397790</td>\n",
              "      <td>32.75</td>\n",
              "      <td>-117.09</td>\n",
              "      <td>0.950</td>\n",
              "    </tr>\n",
              "    <tr>\n",
              "      <th>2</th>\n",
              "      <td>4.4583</td>\n",
              "      <td>25.0</td>\n",
              "      <td>7.830986</td>\n",
              "      <td>1.112676</td>\n",
              "      <td>249.0</td>\n",
              "      <td>3.507042</td>\n",
              "      <td>36.71</td>\n",
              "      <td>-119.69</td>\n",
              "      <td>1.083</td>\n",
              "    </tr>\n",
              "    <tr>\n",
              "      <th>3</th>\n",
              "      <td>3.8365</td>\n",
              "      <td>29.0</td>\n",
              "      <td>5.503686</td>\n",
              "      <td>1.122850</td>\n",
              "      <td>1187.0</td>\n",
              "      <td>2.916462</td>\n",
              "      <td>34.14</td>\n",
              "      <td>-117.90</td>\n",
              "      <td>1.842</td>\n",
              "    </tr>\n",
              "    <tr>\n",
              "      <th>4</th>\n",
              "      <td>1.7708</td>\n",
              "      <td>9.0</td>\n",
              "      <td>4.152284</td>\n",
              "      <td>1.000000</td>\n",
              "      <td>358.0</td>\n",
              "      <td>1.817259</td>\n",
              "      <td>39.52</td>\n",
              "      <td>-121.56</td>\n",
              "      <td>0.795</td>\n",
              "    </tr>\n",
              "  </tbody>\n",
              "</table>\n",
              "</div>"
            ],
            "text/plain": [
              "   MedInc  HouseAge  AveRooms  ...  Latitude  Longitude  MedianHouseValue\n",
              "0  2.7411      14.0  4.285714  ...     37.30    -121.87             1.125\n",
              "1  1.8750      24.0  3.439227  ...     32.75    -117.09             0.950\n",
              "2  4.4583      25.0  7.830986  ...     36.71    -119.69             1.083\n",
              "3  3.8365      29.0  5.503686  ...     34.14    -117.90             1.842\n",
              "4  1.7708       9.0  4.152284  ...     39.52    -121.56             0.795\n",
              "\n",
              "[5 rows x 9 columns]"
            ]
          },
          "metadata": {
            "tags": []
          },
          "execution_count": 62
        }
      ]
    },
    {
      "cell_type": "code",
      "metadata": {
        "colab": {
          "base_uri": "https://localhost:8080/"
        },
        "id": "MG7LKpOMU5VJ",
        "outputId": "88e31ce1-44ba-4f2d-a7f5-0805b23061a4"
      },
      "source": [
        "with open(train_filepaths[0]) as f:\n",
        "  for i in range(5):\n",
        "    print(f.readline(), end=\"\")"
      ],
      "execution_count": null,
      "outputs": [
        {
          "output_type": "stream",
          "text": [
            "MedInc,HouseAge,AveRooms,AveBedrms,Population,AveOccup,Latitude,Longitude,MedianHouseValue\n",
            "2.7411,14.0,4.285714285714286,1.4761904761904763,134.0,1.5952380952380953,37.3,-121.87,1.125\n",
            "1.875,24.0,3.4392265193370166,1.0386740331491713,1230.0,3.3977900552486187,32.75,-117.09,0.95\n",
            "4.4583,25.0,7.830985915492958,1.1126760563380282,249.0,3.507042253521127,36.71,-119.69,1.083\n",
            "3.8365,29.0,5.503685503685504,1.1228501228501229,1187.0,2.9164619164619165,34.14,-117.9,1.842\n"
          ],
          "name": "stdout"
        }
      ]
    },
    {
      "cell_type": "code",
      "metadata": {
        "colab": {
          "base_uri": "https://localhost:8080/"
        },
        "id": "SpTC1NqhVNch",
        "outputId": "8c2c1111-cc2b-43eb-f8bb-42752ca09acb"
      },
      "source": [
        "train_filepaths"
      ],
      "execution_count": null,
      "outputs": [
        {
          "output_type": "execute_result",
          "data": {
            "text/plain": [
              "['datasets/housing/my_train_00.csv',\n",
              " 'datasets/housing/my_train_01.csv',\n",
              " 'datasets/housing/my_train_02.csv',\n",
              " 'datasets/housing/my_train_03.csv',\n",
              " 'datasets/housing/my_train_04.csv',\n",
              " 'datasets/housing/my_train_05.csv',\n",
              " 'datasets/housing/my_train_06.csv',\n",
              " 'datasets/housing/my_train_07.csv',\n",
              " 'datasets/housing/my_train_08.csv',\n",
              " 'datasets/housing/my_train_09.csv',\n",
              " 'datasets/housing/my_train_10.csv',\n",
              " 'datasets/housing/my_train_11.csv',\n",
              " 'datasets/housing/my_train_12.csv',\n",
              " 'datasets/housing/my_train_13.csv',\n",
              " 'datasets/housing/my_train_14.csv',\n",
              " 'datasets/housing/my_train_15.csv',\n",
              " 'datasets/housing/my_train_16.csv',\n",
              " 'datasets/housing/my_train_17.csv',\n",
              " 'datasets/housing/my_train_18.csv',\n",
              " 'datasets/housing/my_train_19.csv']"
            ]
          },
          "metadata": {
            "tags": []
          },
          "execution_count": 64
        }
      ]
    },
    {
      "cell_type": "markdown",
      "metadata": {
        "id": "u48_DmmAWA07"
      },
      "source": [
        "### <font color='#0C92AC'>Building an Input Pipeline</font>\n",
        "\n",
        "Now let’s create a dataset containing only these file paths:\n",
        "\n",
        "By default, the `list_files()` function returns a dataset that shuffles the file paths. In general this is a good thing, but you can set `shuffle=False` if you do not want that."
      ]
    },
    {
      "cell_type": "code",
      "metadata": {
        "id": "isdqE4KzVjpC"
      },
      "source": [
        "filepath_dataset = tf.data.Dataset.list_files(train_filepaths, seed=42)"
      ],
      "execution_count": null,
      "outputs": []
    },
    {
      "cell_type": "code",
      "metadata": {
        "colab": {
          "base_uri": "https://localhost:8080/"
        },
        "id": "9D0R_nSFWmt9",
        "outputId": "dbc92b7f-7057-421e-ecac-0a69a2cb1958"
      },
      "source": [
        "for filepath in filepath_dataset:\n",
        "    print(filepath)"
      ],
      "execution_count": null,
      "outputs": [
        {
          "output_type": "stream",
          "text": [
            "tf.Tensor(b'datasets/housing/my_train_15.csv', shape=(), dtype=string)\n",
            "tf.Tensor(b'datasets/housing/my_train_08.csv', shape=(), dtype=string)\n",
            "tf.Tensor(b'datasets/housing/my_train_03.csv', shape=(), dtype=string)\n",
            "tf.Tensor(b'datasets/housing/my_train_01.csv', shape=(), dtype=string)\n",
            "tf.Tensor(b'datasets/housing/my_train_10.csv', shape=(), dtype=string)\n",
            "tf.Tensor(b'datasets/housing/my_train_05.csv', shape=(), dtype=string)\n",
            "tf.Tensor(b'datasets/housing/my_train_19.csv', shape=(), dtype=string)\n",
            "tf.Tensor(b'datasets/housing/my_train_16.csv', shape=(), dtype=string)\n",
            "tf.Tensor(b'datasets/housing/my_train_02.csv', shape=(), dtype=string)\n",
            "tf.Tensor(b'datasets/housing/my_train_09.csv', shape=(), dtype=string)\n",
            "tf.Tensor(b'datasets/housing/my_train_00.csv', shape=(), dtype=string)\n",
            "tf.Tensor(b'datasets/housing/my_train_07.csv', shape=(), dtype=string)\n",
            "tf.Tensor(b'datasets/housing/my_train_12.csv', shape=(), dtype=string)\n",
            "tf.Tensor(b'datasets/housing/my_train_04.csv', shape=(), dtype=string)\n",
            "tf.Tensor(b'datasets/housing/my_train_17.csv', shape=(), dtype=string)\n",
            "tf.Tensor(b'datasets/housing/my_train_11.csv', shape=(), dtype=string)\n",
            "tf.Tensor(b'datasets/housing/my_train_14.csv', shape=(), dtype=string)\n",
            "tf.Tensor(b'datasets/housing/my_train_18.csv', shape=(), dtype=string)\n",
            "tf.Tensor(b'datasets/housing/my_train_06.csv', shape=(), dtype=string)\n",
            "tf.Tensor(b'datasets/housing/my_train_13.csv', shape=(), dtype=string)\n"
          ],
          "name": "stdout"
        }
      ]
    },
    {
      "cell_type": "markdown",
      "metadata": {
        "id": "COEgVXWtXFPk"
      },
      "source": [
        "* The `interleave()` method will create a dataset that will pull 5 file paths from the `filepath_dataset`\n",
        "\n",
        "* Each one it will call the function we gave it (a lambda in this example) to create a new dataset.\n",
        "\n",
        "* In this case a `TextLineDataset`. It will then cycle through these 5 datasets.\n",
        "\n",
        "   * Reading one line at a time from each until all datasets are out of items.\n",
        "\n",
        "   * Then it will get the next 5 file paths from the `filepath_dataset`.\n",
        "   \n",
        "* The `interleave` them the same way, and so on until it runs out of file paths.\n",
        "\n",
        "هاقري خمس ملفات بس وادخل اخد سطر من كل ملفت سطر واحد بس لحد الخمسه دول يخلصوا هانقل علي خمسه تانين اعمل فيهم نفس الحوار وهكذا \n",
        "\n",
        "> By default, `interleave()` does not use parallelism, it just reads one line at a time from each file, sequentially.\n",
        "> However, if you want it to actually read files in parallel, you can set the `num_parallel_calls` argument to the number of threads you want.\n",
        "> You can even set it to `tf.data.experimental.AUTOTUNE` to make TensorFlow choose the right number of threads dynamically based on the available CPU\n"
      ]
    },
    {
      "cell_type": "code",
      "metadata": {
        "id": "U7ZpYCNIWtmQ"
      },
      "source": [
        "n_readers = 5\n",
        "dataset = filepath_dataset.interleave(\n",
        "    lambda filepath: tf.data.TextLineDataset(filepath).skip(1),\n",
        "    cycle_length=n_readers)"
      ],
      "execution_count": null,
      "outputs": []
    },
    {
      "cell_type": "code",
      "metadata": {
        "colab": {
          "base_uri": "https://localhost:8080/"
        },
        "id": "_SI7U-NaYxMN",
        "outputId": "65a838c4-8a3a-4fc5-efb8-1c9c2ce30d15"
      },
      "source": [
        "for line in dataset.take(5):\n",
        "    print(line.numpy())"
      ],
      "execution_count": null,
      "outputs": [
        {
          "output_type": "stream",
          "text": [
            "b'1.5284,31.0,2.7400881057268722,1.0088105726872247,597.0,2.6299559471365637,34.1,-118.32,2.0'\n",
            "b'4.7109,32.0,4.508393285371703,1.0431654676258992,798.0,1.9136690647482015,34.05,-118.44,5.0'\n",
            "b'2.3269,35.0,4.614754098360656,1.0846994535519126,1135.0,3.101092896174863,32.73,-117.11,0.973'\n",
            "b'3.9861,34.0,5.121495327102804,1.0070093457943925,1376.0,3.2149532710280373,34.09,-117.93,1.639'\n",
            "b'3.8906,34.0,5.95852534562212,0.9907834101382489,774.0,3.5668202764976957,33.97,-117.53,1.41'\n"
          ],
          "name": "stdout"
        }
      ]
    },
    {
      "cell_type": "markdown",
      "metadata": {
        "id": "0IaMtEl0ZF44"
      },
      "source": [
        "These are the first rows (ignoring the header row) of 5 CSV files, chosen randomly.\n",
        "But as you can see, these are just byte strings, we need to parse them, and also scale the data."
      ]
    },
    {
      "cell_type": "markdown",
      "metadata": {
        "id": "4ISydWqFZWDc"
      },
      "source": [
        "## <font color='#E123EC'>**Preprocessing The Data**</font>"
      ]
    },
    {
      "cell_type": "code",
      "metadata": {
        "colab": {
          "base_uri": "https://localhost:8080/"
        },
        "id": "lo3A_5bvY8hp",
        "outputId": "a48d3d06-f482-4904-da55-feb9a0f7bfa9"
      },
      "source": [
        "record_defaults=[0, np.nan, tf.constant(np.nan, dtype=tf.float64), \"Hello\", tf.constant([])]\n",
        "parsed_fields = tf.io.decode_csv('1,2,3,4,5', record_defaults)\n",
        "parsed_fields"
      ],
      "execution_count": null,
      "outputs": [
        {
          "output_type": "execute_result",
          "data": {
            "text/plain": [
              "[<tf.Tensor: shape=(), dtype=int32, numpy=1>,\n",
              " <tf.Tensor: shape=(), dtype=float32, numpy=2.0>,\n",
              " <tf.Tensor: shape=(), dtype=float64, numpy=3.0>,\n",
              " <tf.Tensor: shape=(), dtype=string, numpy=b'4'>,\n",
              " <tf.Tensor: shape=(), dtype=float32, numpy=5.0>]"
            ]
          },
          "metadata": {
            "tags": []
          },
          "execution_count": 69
        }
      ]
    },
    {
      "cell_type": "markdown",
      "metadata": {
        "id": "FCN-PO1wB9W_"
      },
      "source": [
        "Notice that all missing fields are replaced with their default value, when provided:"
      ]
    },
    {
      "cell_type": "code",
      "metadata": {
        "colab": {
          "base_uri": "https://localhost:8080/"
        },
        "id": "3rMTDC4BaQYE",
        "outputId": "2f04f2cf-8c60-46db-c6b5-75373b3d39d6"
      },
      "source": [
        "parsed_fields = tf.io.decode_csv(',,,,5', record_defaults)\n",
        "parsed_fields"
      ],
      "execution_count": null,
      "outputs": [
        {
          "output_type": "execute_result",
          "data": {
            "text/plain": [
              "[<tf.Tensor: shape=(), dtype=int32, numpy=0>,\n",
              " <tf.Tensor: shape=(), dtype=float32, numpy=nan>,\n",
              " <tf.Tensor: shape=(), dtype=float64, numpy=nan>,\n",
              " <tf.Tensor: shape=(), dtype=string, numpy=b'Hello'>,\n",
              " <tf.Tensor: shape=(), dtype=float32, numpy=5.0>]"
            ]
          },
          "metadata": {
            "tags": []
          },
          "execution_count": 70
        }
      ]
    },
    {
      "cell_type": "markdown",
      "metadata": {
        "id": "2EL1Qn3IB9W_"
      },
      "source": [
        "The 5th field is compulsory (since we provided `tf.constant([])` as the \"default value\"), so we get an exception if we do not provide it:"
      ]
    },
    {
      "cell_type": "code",
      "metadata": {
        "colab": {
          "base_uri": "https://localhost:8080/"
        },
        "id": "8EJRmsWcaf9Y",
        "outputId": "b1bb2f24-0f62-438f-e39a-ca883dfa4c71"
      },
      "source": [
        "try:\n",
        "  parsed_fields = tf.io.decode_csv(',,,,', record_defaults)\n",
        "except tf.errors.InvalidArgumentError as ex:\n",
        "  print(ex)\n"
      ],
      "execution_count": null,
      "outputs": [
        {
          "output_type": "stream",
          "text": [
            "Field 4 is required but missing in record 0! [Op:DecodeCSV]\n"
          ],
          "name": "stdout"
        }
      ]
    },
    {
      "cell_type": "markdown",
      "metadata": {
        "id": "-ITNHohXB9XA"
      },
      "source": [
        "The number of fields should match exactly the number of fields in the `record_defaults`:"
      ]
    },
    {
      "cell_type": "code",
      "metadata": {
        "id": "YmnDopgWB9XA",
        "colab": {
          "base_uri": "https://localhost:8080/"
        },
        "outputId": "1eb44d2c-ac14-4c8c-9cf5-7a107b2e976d"
      },
      "source": [
        "try:\n",
        "    parsed_fields = tf.io.decode_csv('1,2,3,4,5,6,7', record_defaults)\n",
        "except tf.errors.InvalidArgumentError as ex:\n",
        "    print(ex)"
      ],
      "execution_count": null,
      "outputs": [
        {
          "output_type": "stream",
          "text": [
            "Expect 5 fields but have 7 in record 0 [Op:DecodeCSV]\n"
          ],
          "name": "stdout"
        }
      ]
    },
    {
      "cell_type": "markdown",
      "metadata": {
        "id": "ygoHhiG7f2HF"
      },
      "source": [
        "1. We assume that you have precomputed the mean and standard deviation of each feature in the training set. `X_mean` and `X_std` are just 1D tensors (or NumPy arrays) containing 8 floats, one per input feature.\n",
        "\n",
        "2. The` preprocess()` function takes one CSV one.\n",
        "\n",
        " * The `tf.io.decode_csv() `function, which takes two arguments:\n",
        "      - <font color='#1AD19C'> **the line to parse**. </font>\n",
        "      - <font color='#1AD19C'> **An array containing the default value for each column in the CSV file**</font>.\n",
        "\n",
        "  * This tells TensorFlow<font color='#1AD19C'> **(default value for each column +  but also the number of columns + the type of each column)** </font>.\n",
        "\n",
        "3. The `decode_csv()` function returns a list of scalar tensors (one per column) but we need to return 1D tensor arrays.\n",
        "\n",
        "  *  So we call `tf.stack()` on **all tensors except for the target**.\n",
        "  \n",
        "  * We then do the same for the **target value** \n",
        "  \n",
        "  * This makes it a 1D tensor array with a single value, rather than a scalar tensor."
      ]
    },
    {
      "cell_type": "code",
      "metadata": {
        "id": "E9cqU2xibH7D"
      },
      "source": [
        "\n",
        "'''all feature columns are floats and missing values should default to 0 \n",
        "   but we provide an empty array of type tf.float32 as the default \n",
        "   value for the last column (the target) '''\n",
        "\n",
        "''' this tells TensorFlow that this column contains floats, \n",
        "    but that there is no default value, \n",
        "    so it will raise an exception if it encounters a missing value.'''\n",
        "\n",
        "n_inputs = 8    # X_train.shape[-1]\n",
        "\n",
        "@tf.function\n",
        "def preprocess(line):\n",
        "    defs = [0.] * n_inputs + [tf.constant([], dtype=tf.float32)]\n",
        "    fields = tf.io.decode_csv(line, record_defaults=defs)\n",
        "    x = tf.stack(fields[:-1])\n",
        "    y = tf.stack(fields[-1:])\n",
        "    return (x - X_mean) / X_std, y"
      ],
      "execution_count": null,
      "outputs": []
    },
    {
      "cell_type": "code",
      "metadata": {
        "colab": {
          "base_uri": "https://localhost:8080/"
        },
        "id": "WiivLQh2t36v",
        "outputId": "cd56a522-ef6d-4386-86d0-cdc9e8779572"
      },
      "source": [
        "preprocess(b'4.2083,44.0,5.3232,0.9171,846.0,2.3370,37.47,-122.2,2.782')"
      ],
      "execution_count": null,
      "outputs": [
        {
          "output_type": "execute_result",
          "data": {
            "text/plain": [
              "(<tf.Tensor: shape=(8,), dtype=float32, numpy=\n",
              " array([ 0.18826321,  1.2262825 , -0.04688432, -0.39490458, -0.5199969 ,\n",
              "        -0.06170512,  0.8470405 , -1.3000935 ], dtype=float32)>,\n",
              " <tf.Tensor: shape=(1,), dtype=float32, numpy=array([2.782], dtype=float32)>)"
            ]
          },
          "metadata": {
            "tags": []
          },
          "execution_count": 76
        }
      ]
    },
    {
      "cell_type": "markdown",
      "metadata": {
        "id": "yvSgm3iEuVGx"
      },
      "source": [
        "## <font color='#E123EC'>**Putting Everything Together**</font>\n",
        "\n",
        "let’s put together everything we have discussed so far into a small helper function: it will create and return a dataset that will efficiently load California housing data from multiple CSV files, then shuffle it, preprocess it and batch it\n",
        "<center>\n",
        "<img src='https://res.cloudinary.com/practicaldev/image/fetch/s--fGB-g9o---/c_limit%2Cf_auto%2Cfl_progressive%2Cq_auto%2Cw_880/https://dev-to-uploads.s3.amazonaws.com/uploads/articles/e3pqesb3tr18u84pknou.png' height = '350' width= '600' /> <figcaption ><font color='#2085E0'>Loading and Preprocessing Data From Multiple CSV Files</figcaption>\n",
        "</center>\n",
        "\n",
        "> By setting `num_parallel_calls` when calling `interleave()` and `map()`), we can exploit **multiple cores on the CPU**.\n",
        "his way the GPU will be almost 100% utilized (except for the data transfer time from the CPU to the GPU)"
      ]
    },
    {
      "cell_type": "code",
      "metadata": {
        "id": "7_VkGfcpuOfz"
      },
      "source": [
        "def csv_reader_dataset(filepaths, repeat=1, n_readers=5,\n",
        "                       n_read_threads=None, shuffle_buffer_size=10000,\n",
        "                       n_parse_threads=5, batch_size=32):\n",
        "  \n",
        "  '''****************************************Arguments**************************************** \n",
        "      filepaths       - CSV files that created from (save_to_multiple_csv_files) previous function. \n",
        "      repeat          - Do u want to repeat each file or not? how many times do u need to repeat each?\n",
        "      n_readers       - How many files do u want to read in the same time?\n",
        "      n_read_threads  - Do u want to read lines in parallel ? \n",
        "                       ~ U can set the num_parallel_calls argument to the number of threads you want.\n",
        "                       ~ As default read 5 lines in the same time.\n",
        "                       ~ U can even set it to tf.data.experimental.AUTOTUNE to make TensorFlow choose the right number\n",
        "                         of threads dynamically based on the available CPU.\n",
        "      n_parse_threads  - Exploit multiple cores on the CPU. This way the GPU will be almost 100% utilized.\n",
        "                       ~ U can let TensorFlow decide automatically by passing tf.data.experimental.AUTOTUNE.\n",
        "      \n",
        "      shuffle_buffer_size - Number of files [im not sure fils or line?] in the RAM.\n",
        "      batch_size          - How many batch do u want to divide ur data after these process?\n",
        "\n",
        "      ***************************************************************************************'''\n",
        "\n",
        "  dataset = tf.data.Dataset.list_files(filepaths).repeat(repeat)\n",
        "  dataset = dataset.interleave(\n",
        "      lambda filepath: tf.data.TextLineDataset(filepath).skip(1),\n",
        "      cycle_length=n_readers, num_parallel_calls=n_read_threads)\n",
        "  dataset = dataset.shuffle(shuffle_buffer_size)\n",
        "  dataset = dataset.map(preprocess, num_parallel_calls=n_parse_threads)\n",
        "  dataset = dataset.batch(batch_size)\n",
        "  return dataset.prefetch(1)"
      ],
      "execution_count": null,
      "outputs": []
    },
    {
      "cell_type": "markdown",
      "metadata": {
        "id": "tvOgZSxMv6fu"
      },
      "source": [
        "## <font color='#E123EC'>**Prefetching**</font>\n",
        "\n",
        "By calling` prefetch(1)` at the end, we are creating a dataset that will do its best to always be one batch ahead. \n",
        "\n",
        "In other words, while our training algorithm is working on one batch, the dataset will already be working in parallel on getting the next batch ready. This can improve performance dramatically\n",
        "\n",
        "<center>\n",
        "<img src='https://blockgeni.com/wp-content/uploads/2020/01/u-57.png' height = '450' width= '600' />\n",
        "</center>"
      ]
    },
    {
      "cell_type": "markdown",
      "metadata": {
        "id": "drG2a_h_4GM0"
      },
      "source": [
        "## <font color='#E123EC'>**Using the Dataset With tf.keras**</font>"
      ]
    },
    {
      "cell_type": "code",
      "metadata": {
        "colab": {
          "base_uri": "https://localhost:8080/"
        },
        "id": "-hlvJlUPwMJz",
        "outputId": "19606475-4e3c-4b6d-f07f-3c5903db7d60"
      },
      "source": [
        "tf.random.set_seed(42)\n",
        "\n",
        "train_set = csv_reader_dataset(train_filepaths, batch_size=3)\n",
        "for X_batch, y_batch in train_set.take(2):\n",
        "  print(\"X =\", X_batch)\n",
        "  print('-----------------------------------------------------------')\n",
        "  print(\"y =\", y_batch)\n",
        "  print(\"________________________________________________________________________________\")\n",
        "  print(\"________________________________________________________________________________\")\n"
      ],
      "execution_count": null,
      "outputs": [
        {
          "output_type": "stream",
          "text": [
            "X = tf.Tensor(\n",
            "[[ 0.45992312 -0.20465776  0.19179222 -0.23145103  0.07074065 -0.05531577\n",
            "  -1.3426448   1.2540438 ]\n",
            " [-0.6798673   1.0672891  -0.73218524 -0.1679692   0.8554517   0.09494675\n",
            "  -0.791722    0.67649794]\n",
            " [-0.5467218  -1.0791212  -0.00662662 -0.0387252  -0.14880212 -0.04163525\n",
            "   0.77233917 -0.02551482]], shape=(3, 8), dtype=float32)\n",
            "-----------------------------------------------------------\n",
            "y = tf.Tensor(\n",
            "[[2.683]\n",
            " [1.516]\n",
            " [1.044]], shape=(3, 1), dtype=float32)\n",
            "________________________________________________________________________________\n",
            "________________________________________________________________________________\n",
            "X = tf.Tensor(\n",
            "[[-1.4223686  -0.52264446 -0.5553496   0.10031558 -0.65577835  0.1414257\n",
            "  -1.337975    2.010824  ]\n",
            " [ 2.6202636   0.4313157   0.38541025 -0.20899685 -0.73689455 -0.05045827\n",
            "   0.79568297 -1.3100533 ]\n",
            " [-1.2102484   0.11332896 -0.61529607  0.01181557  0.16243722  0.01328004\n",
            "  -1.3566507   1.2440878 ]], shape=(3, 8), dtype=float32)\n",
            "-----------------------------------------------------------\n",
            "y = tf.Tensor(\n",
            "[[0.536  ]\n",
            " [5.00001]\n",
            " [0.844  ]], shape=(3, 1), dtype=float32)\n",
            "________________________________________________________________________________\n",
            "________________________________________________________________________________\n"
          ],
          "name": "stdout"
        }
      ]
    },
    {
      "cell_type": "markdown",
      "metadata": {
        "id": "wZ-4mJdv-DUD"
      },
      "source": [
        "1. uUe the `csv_reader_dataset()` function to create a dataset for the trainingset ( `repeat=None` ensuring it repeats the data forever), the validation set and the test set."
      ]
    },
    {
      "cell_type": "code",
      "metadata": {
        "id": "Alznhf7c4q2P"
      },
      "source": [
        "train_set = csv_reader_dataset(train_filepaths, repeat=None)\n",
        "valid_set = csv_reader_dataset(valid_filepaths)\n",
        "test_set  = csv_reader_dataset(test_filepaths)"
      ],
      "execution_count": null,
      "outputs": []
    },
    {
      "cell_type": "code",
      "metadata": {
        "id": "YcNZz8zu6K-K"
      },
      "source": [
        "keras.backend.clear_session()\n",
        "np.random.seed(42)\n",
        "tf.random.set_seed(42)\n",
        "\n",
        "model = keras.models.Sequential([\n",
        "    keras.layers.Dense(30, activation=\"relu\", input_shape=X_train.shape[1:]),\n",
        "    keras.layers.Dense(1),\n",
        "])"
      ],
      "execution_count": null,
      "outputs": []
    },
    {
      "cell_type": "code",
      "metadata": {
        "id": "08b-ulQP6lWw"
      },
      "source": [
        "model.compile(loss=\"mse\", optimizer=keras.optimizers.SGD(learning_rate=1e-3))"
      ],
      "execution_count": null,
      "outputs": []
    },
    {
      "cell_type": "code",
      "metadata": {
        "colab": {
          "base_uri": "https://localhost:8080/"
        },
        "id": "2lPxfd416xf4",
        "outputId": "4752e9ad-099c-4096-d483-8f2cdcf7cfcf"
      },
      "source": [
        "batch_size = 32\n",
        "model.fit(train_set, steps_per_epoch=len(X_train) // batch_size, epochs=10,\n",
        "          validation_data=valid_set)"
      ],
      "execution_count": null,
      "outputs": [
        {
          "output_type": "stream",
          "text": [
            "Epoch 1/10\n",
            "362/362 [==============================] - 1s 3ms/step - loss: 1.4427 - val_loss: 0.9661\n",
            "Epoch 2/10\n",
            "362/362 [==============================] - 1s 3ms/step - loss: 0.7494 - val_loss: 0.7732\n",
            "Epoch 3/10\n",
            "362/362 [==============================] - 1s 3ms/step - loss: 0.7364 - val_loss: 0.7000\n",
            "Epoch 4/10\n",
            "362/362 [==============================] - 1s 3ms/step - loss: 0.6022 - val_loss: 0.6682\n",
            "Epoch 5/10\n",
            "362/362 [==============================] - 1s 3ms/step - loss: 0.5747 - val_loss: 0.6427\n",
            "Epoch 6/10\n",
            "362/362 [==============================] - 1s 3ms/step - loss: 0.5513 - val_loss: 0.6233\n",
            "Epoch 7/10\n",
            "362/362 [==============================] - 1s 3ms/step - loss: 0.5483 - val_loss: 0.6080\n",
            "Epoch 8/10\n",
            "362/362 [==============================] - 1s 3ms/step - loss: 0.5305 - val_loss: 0.5934\n",
            "Epoch 9/10\n",
            "362/362 [==============================] - 1s 3ms/step - loss: 0.5281 - val_loss: 0.5817\n",
            "Epoch 10/10\n",
            "362/362 [==============================] - 1s 3ms/step - loss: 0.5071 - val_loss: 0.5729\n"
          ],
          "name": "stdout"
        },
        {
          "output_type": "execute_result",
          "data": {
            "text/plain": [
              "<tensorflow.python.keras.callbacks.History at 0x7fdc2f99d590>"
            ]
          },
          "metadata": {
            "tags": []
          },
          "execution_count": 83
        }
      ]
    },
    {
      "cell_type": "code",
      "metadata": {
        "colab": {
          "base_uri": "https://localhost:8080/"
        },
        "id": "hvK-uNfr7EeM",
        "outputId": "ab6349c5-5b47-407d-d7e6-6eb25957f9b3"
      },
      "source": [
        "model.evaluate (test_set, steps = len(X_test) // batch_size)"
      ],
      "execution_count": null,
      "outputs": [
        {
          "output_type": "stream",
          "text": [
            "161/161 [==============================] - 0s 2ms/step - loss: 0.5265\n"
          ],
          "name": "stdout"
        },
        {
          "output_type": "execute_result",
          "data": {
            "text/plain": [
              "0.5264724493026733"
            ]
          },
          "metadata": {
            "tags": []
          },
          "execution_count": 84
        }
      ]
    },
    {
      "cell_type": "code",
      "metadata": {
        "colab": {
          "base_uri": "https://localhost:8080/"
        },
        "id": "BSPuJRiz7RmR",
        "outputId": "500c8058-c24b-4bf9-fdb5-8fae5a75a319"
      },
      "source": [
        "# we could instead just pass test_set, Keras would ignore the labels\n",
        "\n",
        "new_set = test_set.map(lambda X, y: X)\n",
        "X_new = X_test\n",
        "model.predict(new_set, steps = len(X_new) // batch_size)"
      ],
      "execution_count": null,
      "outputs": [
        {
          "output_type": "execute_result",
          "data": {
            "text/plain": [
              "array([[1.1898918],\n",
              "       [3.028419 ],\n",
              "       [0.3365617],\n",
              "       ...,\n",
              "       [2.4307718],\n",
              "       [1.9587927],\n",
              "       [2.6407506]], dtype=float32)"
            ]
          },
          "metadata": {
            "tags": []
          },
          "execution_count": 87
        }
      ]
    },
    {
      "cell_type": "markdown",
      "metadata": {
        "id": "a0lp2XuUBEga"
      },
      "source": [
        "If you want to build your own custom training loop as in [Chapter 12](https://), you can just iterate over the training set, very naturally."
      ]
    },
    {
      "cell_type": "code",
      "metadata": {
        "colab": {
          "base_uri": "https://localhost:8080/"
        },
        "id": "ZyVUta8f9kF0",
        "outputId": "75b6a246-d3b2-43eb-f725-bce0031c8c0f"
      },
      "source": [
        "optimizer = keras.optimizers.Nadam(learning_rate = 0.01)\n",
        "loss_fn = keras.losses.mean_squared_error\n",
        "\n",
        "n_epochs = 5\n",
        "batch_size = 32\n",
        "n_steps_per_epoch = len(X_train) // batch_size\n",
        "total_steps = n_epochs * n_steps_per_epoch\n",
        "global_step = 0\n",
        " \n",
        "for X_batch, y_batch in train_set.take(total_steps):\n",
        "  # perform one gradient descent step\n",
        "  global_step += 1\n",
        "  print('\\rGlobal step {}/{}'.format(global_step, total_steps), end = '')\n",
        "\n",
        "  with tf.GradientTape() as tape:\n",
        "    y_pred = model(X_batch)\n",
        "    main_loss = tf.reduce_mean(loss_fn(y_batch, y_pred))\n",
        "    loss = tf.add_n([main_loss] + model.losses)\n",
        "\n",
        "  gradients = tape.gradient(loss, model.trainable_variables)\n",
        "  optimizer.apply_gradients(zip(gradients, model.trainable_variables))"
      ],
      "execution_count": null,
      "outputs": [
        {
          "output_type": "stream",
          "text": [
            "Global step 1810/1810"
          ],
          "name": "stdout"
        }
      ]
    },
    {
      "cell_type": "code",
      "metadata": {
        "id": "z2yhqKssCFzm"
      },
      "source": [
        "keras.backend.clear_session()\n",
        "np.random.seed(42)\n",
        "tf.random.set_seed(42)"
      ],
      "execution_count": null,
      "outputs": []
    },
    {
      "cell_type": "code",
      "metadata": {
        "id": "jq2nnus6CSFj"
      },
      "source": [
        "optimizer = keras.optimizers.Nadam(learning_rate = 0.01)\n",
        "loss_fn = keras.losses.mean_squared_error\n",
        "\n",
        "@tf.function\n",
        "\n",
        "def train(model, n_epochs, batch_size = 32,\n",
        "          n_readers=5, n_read_threads=5, shuffle_buffer_size=10000, n_parse_threads=5):\n",
        "  \n",
        "  train_set = csv_reader_dataset(train_filepaths, repeat = n_epochs,\n",
        "                                 n_readers = n_readers, n_read_threads = n_read_threads, \n",
        "                                 shuffle_buffer_size = shuffle_buffer_size, n_parse_threads = n_parse_threads,\n",
        "                                 batch_size = batch_size)\n",
        "  \n",
        "  n_steps_per_epoch = len(X_train) // batch_size\n",
        "  total_steps = n_epochs * n_steps_per_epoch\n",
        "  global_step = 0\n",
        "\n",
        "  for X_batch, y_batch in train_set.take(total_steps):\n",
        "    global_step += 1\n",
        "    if tf.equal(global_step % 100, 0):\n",
        "      tf.print('\\rGlobal step', global_step, '/' , total_steps) \n",
        "    with tf.GradientTape() as tape:\n",
        "      y_pred = model (X_batch)\n",
        "      main_loss = tf.reduce_mean(loss_fn(y_batch, y_pred))\n",
        "      loss = tf.add_n([main_loss] + model.losses)\n",
        "    \n",
        "    gradients = tape.gradient(loss, model.trainable_variables)\n",
        "    optimizer.apply_gradients(zip(gradients, model.trainable_variables))\n",
        "    "
      ],
      "execution_count": null,
      "outputs": []
    },
    {
      "cell_type": "code",
      "metadata": {
        "colab": {
          "base_uri": "https://localhost:8080/"
        },
        "id": "kE9uCTaHEpCK",
        "outputId": "aac15ca3-67b6-4a60-e588-6d76e06f0667"
      },
      "source": [
        "train(model, 5)"
      ],
      "execution_count": null,
      "outputs": [
        {
          "output_type": "stream",
          "text": [
            "Global step 100 / 1810\n",
            "Global step 200 / 1810\n",
            "Global step 300 / 1810\n",
            "Global step 400 / 1810\n",
            "Global step 500 / 1810\n",
            "Global step 600 / 1810\n",
            "Global step 700 / 1810\n",
            "Global step 800 / 1810\n",
            "Global step 900 / 1810\n",
            "Global step 1000 / 1810\n",
            "Global step 1100 / 1810\n",
            "Global step 1200 / 1810\n",
            "Global step 1300 / 1810\n",
            "Global step 1400 / 1810\n",
            "Global step 1500 / 1810\n",
            "Global step 1600 / 1810\n",
            "Global step 1700 / 1810\n",
            "Global step 1800 / 1810\n"
          ],
          "name": "stdout"
        }
      ]
    },
    {
      "cell_type": "markdown",
      "metadata": {
        "id": "9upyx-_AGT0Y"
      },
      "source": [
        "Here is a short description of each method in the Dataset class."
      ]
    },
    {
      "cell_type": "code",
      "metadata": {
        "colab": {
          "base_uri": "https://localhost:8080/"
        },
        "id": "b71A82k0EqTJ",
        "outputId": "1697199a-6ff3-49d4-d648-24b93ab5ea38"
      },
      "source": [
        "for m in dir(tf.data.Dataset):\n",
        "  if not (m.startswith(\"_\") or m.endswith(\"_\")) : \n",
        "    \n",
        "    ''' getattr() : returns the value of the named attribute of an object. \n",
        "                    If not found, it returns the default value provided \n",
        "                    to the function.\n",
        "         hasattr() : method returns true if an object has the given named \n",
        "                     attribute and false if it does not.'''\n",
        "\n",
        "    func = getattr(tf.data.Dataset, m)\n",
        "    if hasattr(func, \"__doc__\"):\n",
        "      print(\"● {:21s}{}\".format(m + \"()\", func.__doc__.split('\\n')[0]))"
      ],
      "execution_count": null,
      "outputs": [
        {
          "output_type": "stream",
          "text": [
            "● apply()              Applies a transformation function to this dataset.\n",
            "● as_numpy_iterator()  Returns an iterator which converts all elements of the dataset to numpy.\n",
            "● batch()              Combines consecutive elements of this dataset into batches.\n",
            "● cache()              Caches the elements in this dataset.\n",
            "● cardinality()        Returns the cardinality of the dataset, if known.\n",
            "● concatenate()        Creates a `Dataset` by concatenating the given dataset with this dataset.\n",
            "● element_spec()       The type specification of an element of this dataset.\n",
            "● enumerate()          Enumerates the elements of this dataset.\n",
            "● filter()             Filters this dataset according to `predicate`.\n",
            "● flat_map()           Maps `map_func` across this dataset and flattens the result.\n",
            "● from_generator()     Creates a `Dataset` whose elements are generated by `generator`. (deprecated arguments)\n",
            "● from_tensor_slices() Creates a `Dataset` whose elements are slices of the given tensors.\n",
            "● from_tensors()       Creates a `Dataset` with a single element, comprising the given tensors.\n",
            "● interleave()         Maps `map_func` across this dataset, and interleaves the results.\n",
            "● list_files()         A dataset of all files matching one or more glob patterns.\n",
            "● map()                Maps `map_func` across the elements of this dataset.\n",
            "● options()            Returns the options for this dataset and its inputs.\n",
            "● padded_batch()       Combines consecutive elements of this dataset into padded batches.\n",
            "● prefetch()           Creates a `Dataset` that prefetches elements from this dataset.\n",
            "● range()              Creates a `Dataset` of a step-separated range of values.\n",
            "● reduce()             Reduces the input dataset to a single element.\n",
            "● repeat()             Repeats this dataset so each original value is seen `count` times.\n",
            "● shard()              Creates a `Dataset` that includes only 1/`num_shards` of this dataset.\n",
            "● shuffle()            Randomly shuffles the elements of this dataset.\n",
            "● skip()               Creates a `Dataset` that skips `count` elements from this dataset.\n",
            "● take()               Creates a `Dataset` with at most `count` elements from this dataset.\n",
            "● unbatch()            Splits elements of a dataset into multiple elements.\n",
            "● window()             Combines (nests of) input elements into a dataset of (nests of) windows.\n",
            "● with_options()       Returns a new `tf.data.Dataset` with the given options set.\n",
            "● zip()                Creates a `Dataset` by zipping together the given datasets.\n"
          ],
          "name": "stdout"
        }
      ]
    },
    {
      "cell_type": "markdown",
      "metadata": {
        "id": "vhhar-fGIY50"
      },
      "source": [
        "----"
      ]
    },
    {
      "cell_type": "markdown",
      "metadata": {
        "id": "BveBrEPsS6d6"
      },
      "source": [
        "# <font color='#8010CA'>**The TFRecord Format**</font>\n",
        "\n",
        "The `TFRecord` format is TensorFlow’s preferred format for storing large amounts of data and reading it efficiently.It is a very simple binary format that just contains a sequence of binary records.\n",
        "\n",
        "* <font color='#EE2B94'>**A binary record**</font> \n",
        "    * length.\n",
        "    * CRC (checksum to check that the length was not corrupted).\n",
        "    * the actual data.\n",
        "    * CRC (checksum for the data).\n",
        "\n",
        "* <font color='#EE2B94'>**Reading the dataset**</font> `TFRecordDataset`\n",
        "    * By default it will read them one at a time.\n",
        "    * Use `num_parallel_reads=3 `to read the 3 at a time.\n",
        "\n",
        "\n",
        "\n"
      ]
    },
    {
      "cell_type": "code",
      "metadata": {
        "id": "WN5sr7pkGSlz"
      },
      "source": [
        "with tf.io.TFRecordWriter(\"my_data.tfrecord\") as f:\n",
        "  f.write(b\"This is the first record\")\n",
        "  f.write(b\"And this is the second record\")"
      ],
      "execution_count": null,
      "outputs": []
    },
    {
      "cell_type": "code",
      "metadata": {
        "colab": {
          "base_uri": "https://localhost:8080/"
        },
        "id": "vDgvr876U6ru",
        "outputId": "3955e6db-fa05-456d-db61-6f1e9aeb3bb4"
      },
      "source": [
        "filepaths= [\"my_data.tfrecord\"]\n",
        "dataset = tf.data.TFRecordDataset(filepaths)\n",
        "\n",
        "for item in dataset:\n",
        "  print(item)"
      ],
      "execution_count": null,
      "outputs": [
        {
          "output_type": "stream",
          "text": [
            "tf.Tensor(b'This is the first record', shape=(), dtype=string)\n",
            "tf.Tensor(b'And this is the second record', shape=(), dtype=string)\n"
          ],
          "name": "stdout"
        }
      ]
    },
    {
      "cell_type": "code",
      "metadata": {
        "id": "JSrWNaPmVJyn"
      },
      "source": [
        "# create 5 file (0 to 4)\n",
        "filepaths= [\"my_test{}.tfrecord\".format(i) for i in range(5)]\n",
        "\n",
        "for i, filepath in enumerate(filepaths):\n",
        "  # Read each file\n",
        "  with tf.io.TFRecordWriter(filepath) as f:\n",
        "    # Each file has 3 records\n",
        "    for j in range(3):\n",
        "      f.write(\"File {} record {}\".format(i, j).encode('utf-8'))\n"
      ],
      "execution_count": null,
      "outputs": []
    },
    {
      "cell_type": "code",
      "metadata": {
        "colab": {
          "base_uri": "https://localhost:8080/"
        },
        "id": "bjOd7l7OWZmd",
        "outputId": "23df75ff-a005-4656-9b7e-5ca5e4482344"
      },
      "source": [
        "dataset = tf.data.TFRecordDataset(filepaths, num_parallel_reads=3)\n",
        "for item in dataset:\n",
        "  print(item)"
      ],
      "execution_count": null,
      "outputs": [
        {
          "output_type": "stream",
          "text": [
            "tf.Tensor(b'File 0 record 0', shape=(), dtype=string)\n",
            "tf.Tensor(b'File 1 record 0', shape=(), dtype=string)\n",
            "tf.Tensor(b'File 2 record 0', shape=(), dtype=string)\n",
            "tf.Tensor(b'File 0 record 1', shape=(), dtype=string)\n",
            "tf.Tensor(b'File 1 record 1', shape=(), dtype=string)\n",
            "tf.Tensor(b'File 2 record 1', shape=(), dtype=string)\n",
            "tf.Tensor(b'File 0 record 2', shape=(), dtype=string)\n",
            "tf.Tensor(b'File 1 record 2', shape=(), dtype=string)\n",
            "tf.Tensor(b'File 2 record 2', shape=(), dtype=string)\n",
            "tf.Tensor(b'File 3 record 0', shape=(), dtype=string)\n",
            "tf.Tensor(b'File 4 record 0', shape=(), dtype=string)\n",
            "tf.Tensor(b'File 3 record 1', shape=(), dtype=string)\n",
            "tf.Tensor(b'File 4 record 1', shape=(), dtype=string)\n",
            "tf.Tensor(b'File 3 record 2', shape=(), dtype=string)\n",
            "tf.Tensor(b'File 4 record 2', shape=(), dtype=string)\n"
          ],
          "name": "stdout"
        }
      ]
    },
    {
      "cell_type": "markdown",
      "metadata": {
        "id": "U0W2hWRtXhBG"
      },
      "source": [
        "## <font color='#E123EC'>**Compressed TFRecord Files**</font>\n",
        "\n",
        "It can sometimes be useful to compress your TFRecord files, especially if they need to be loaded via a network connection.\n"
      ]
    },
    {
      "cell_type": "code",
      "metadata": {
        "id": "ZHvi_VAeWuQQ"
      },
      "source": [
        "options = tf.io.TFRecordOptions(compression_type = 'GZIP')\n",
        "\n",
        "with tf.io.TFRecordWriter(\"my_compressed.tfrecord\", options) as f:\n",
        "  f.write(b\"This is the first record\")\n",
        "  f.write(b\"And this is the second record\")"
      ],
      "execution_count": null,
      "outputs": []
    },
    {
      "cell_type": "code",
      "metadata": {
        "colab": {
          "base_uri": "https://localhost:8080/"
        },
        "id": "k7TOAPQZYDSw",
        "outputId": "e460cf3f-44c0-4be8-953c-01c5107d66e4"
      },
      "source": [
        "dataset = tf.data.TFRecordDataset([\"my_compressed.tfrecord\"],\n",
        "                                  compression_type=\"GZIP\")\n",
        "for item in dataset:\n",
        "    print(item)"
      ],
      "execution_count": null,
      "outputs": [
        {
          "output_type": "stream",
          "text": [
            "tf.Tensor(b'This is the first record', shape=(), dtype=string)\n",
            "tf.Tensor(b'And this is the second record', shape=(), dtype=string)\n"
          ],
          "name": "stdout"
        }
      ]
    },
    {
      "cell_type": "markdown",
      "metadata": {
        "id": "wxs0HoAQYKjd"
      },
      "source": [
        "## <font color='#E123EC'>**A Brief Introduction to Protocol Buffers**</font>\n",
        "\n",
        "TFRecord files usually contain serialized Protocol Buffers (also called *protobufs*)\n",
        "\n",
        "* For this section you need to [install protobuf](https://developers.google.com/protocol-buffers/docs/downloads).\n",
        "\n",
        "* In general you will not have to do so when using TensorFlow, as it comes with functions to create and parse protocol buffers of type `tf.train.Example`, which are generally sufficient.\n",
        "\n",
        "*  However, in this section we will learn about protocol buffers by creating our own simple `protobuf` definition.\n",
        "\n",
        "* So we need the `protobuf` compiler (`protoc`): we will use it to compile the protobuf definition to a Python module that we can then use in our code.\n",
        "\n",
        "* <font color='#4074E1'>**Steps**</font> \n",
        "\n",
        "    1. write a simple protobuf definition.\n",
        "    2. Compile it (the `--descriptor_set_out` and `--include_imports` options are only required for the `tf.io.decode_proto()` example below).\n",
        "    3. Import the Person class generated by `protoc` and create an instance and we play with it, **visualizing** it, **reading** and **writing** some fields, then we **serialize** it using the `SerializeToString()` method.\n",
        "    4. This is the binary data that is ready to be saved or transmitted over the network. When reading or receiving this binary data, we can parse it using the `ParseFromString()` method, and we get a copy of the object that was serialized.\n",
        "    5. We could save the serialized Person object to a `TFRecord` file, then we could load and parse it.\n",
        "\n",
        "\n",
        "> Everything would work fine. However, `SerializeToString()` and `ParseFromString()` are not TensorFlow operations, so they cannot be included in a TensorFlow Function (except by wrapping them in a tf.`py_function()` operation, which would make the code slower and less portable, as we saw in [Chapter 12](https://))."
      ]
    },
    {
      "cell_type": "code",
      "metadata": {
        "id": "Rkxsh--6YFBt",
        "colab": {
          "base_uri": "https://localhost:8080/"
        },
        "outputId": "23ebc90d-aa9b-4165-fc8e-a94aca39049d"
      },
      "source": [
        "%%writefile person.proto\n",
        "syntax = \"proto3\";\n",
        "message Person {\n",
        "  string name = 1;\n",
        "  int32 id = 2;\n",
        "  repeated string email = 3;\n",
        "}"
      ],
      "execution_count": null,
      "outputs": [
        {
          "output_type": "stream",
          "text": [
            "Writing person.proto\n"
          ],
          "name": "stdout"
        }
      ]
    },
    {
      "cell_type": "code",
      "metadata": {
        "id": "gDg-YXJzZxIl"
      },
      "source": [
        "!protoc person.proto --python_out=. --descriptor_set_out=person.desc --include_imports"
      ],
      "execution_count": null,
      "outputs": []
    },
    {
      "cell_type": "code",
      "metadata": {
        "colab": {
          "base_uri": "https://localhost:8080/"
        },
        "id": "j2rYBWRmZ1OX",
        "outputId": "462507da-6b78-4070-f6ee-103a54a0b37d"
      },
      "source": [
        "!ls person*"
      ],
      "execution_count": null,
      "outputs": [
        {
          "output_type": "stream",
          "text": [
            "person.desc  person_pb2.py  person.proto\n"
          ],
          "name": "stdout"
        }
      ]
    },
    {
      "cell_type": "code",
      "metadata": {
        "colab": {
          "base_uri": "https://localhost:8080/"
        },
        "id": "KLiv06K1Z6vQ",
        "outputId": "b145ef0c-1480-4abb-8dad-06526d09abb6"
      },
      "source": [
        "from person_pb2 import Person\n",
        "person = Person(name = 'Al', id=123, email=[\"a@b.com\"])\n",
        "print(person)"
      ],
      "execution_count": null,
      "outputs": [
        {
          "output_type": "stream",
          "text": [
            "name: \"Al\"\n",
            "id: 123\n",
            "email: \"a@b.com\"\n",
            "\n"
          ],
          "name": "stdout"
        }
      ]
    },
    {
      "cell_type": "code",
      "metadata": {
        "colab": {
          "base_uri": "https://localhost:8080/",
          "height": 35
        },
        "id": "ZxfSJSghaID6",
        "outputId": "ad9abcad-0a37-43f7-80b4-3f9100a5107a"
      },
      "source": [
        "person.name"
      ],
      "execution_count": null,
      "outputs": [
        {
          "output_type": "execute_result",
          "data": {
            "application/vnd.google.colaboratory.intrinsic+json": {
              "type": "string"
            },
            "text/plain": [
              "'Al'"
            ]
          },
          "metadata": {
            "tags": []
          },
          "execution_count": 111
        }
      ]
    },
    {
      "cell_type": "code",
      "metadata": {
        "id": "bWtpOyC3aKzQ"
      },
      "source": [
        "person.name = 'Heba'"
      ],
      "execution_count": null,
      "outputs": []
    },
    {
      "cell_type": "code",
      "metadata": {
        "colab": {
          "base_uri": "https://localhost:8080/",
          "height": 35
        },
        "id": "YWftFAKNaOfm",
        "outputId": "e97a4dcf-387a-4826-95a3-4f55f974e463"
      },
      "source": [
        "person.email[0]"
      ],
      "execution_count": null,
      "outputs": [
        {
          "output_type": "execute_result",
          "data": {
            "application/vnd.google.colaboratory.intrinsic+json": {
              "type": "string"
            },
            "text/plain": [
              "'a@b.com'"
            ]
          },
          "metadata": {
            "tags": []
          },
          "execution_count": 113
        }
      ]
    },
    {
      "cell_type": "code",
      "metadata": {
        "id": "kjga7xURaQ8P"
      },
      "source": [
        "person.email.append('c@d.com')"
      ],
      "execution_count": null,
      "outputs": []
    },
    {
      "cell_type": "code",
      "metadata": {
        "colab": {
          "base_uri": "https://localhost:8080/"
        },
        "id": "iPCozV0zaWCQ",
        "outputId": "8645b0a0-167f-4055-f2f1-26c4a01aab14"
      },
      "source": [
        "s = person.SerializeToString()   # serialize to a byte string\n",
        "s"
      ],
      "execution_count": null,
      "outputs": [
        {
          "output_type": "execute_result",
          "data": {
            "text/plain": [
              "b'\\n\\x04Heba\\x10{\\x1a\\x07a@b.com\\x1a\\x07c@d.com'"
            ]
          },
          "metadata": {
            "tags": []
          },
          "execution_count": 116
        }
      ]
    },
    {
      "cell_type": "code",
      "metadata": {
        "colab": {
          "base_uri": "https://localhost:8080/"
        },
        "id": "XInggIYoaeun",
        "outputId": "3184c021-955f-4506-f0cb-7aa2ef72e791"
      },
      "source": [
        "person2 = Person()\n",
        "person2.ParseFromString(s)  # parse the byte string (26 bytes)"
      ],
      "execution_count": null,
      "outputs": [
        {
          "output_type": "execute_result",
          "data": {
            "text/plain": [
              "26"
            ]
          },
          "metadata": {
            "tags": []
          },
          "execution_count": 117
        }
      ]
    },
    {
      "cell_type": "code",
      "metadata": {
        "colab": {
          "base_uri": "https://localhost:8080/"
        },
        "id": "zKbV4gY-apgR",
        "outputId": "4b0f6683-2a41-4d77-ff98-a3cf236e0e98"
      },
      "source": [
        "person == person2"
      ],
      "execution_count": null,
      "outputs": [
        {
          "output_type": "execute_result",
          "data": {
            "text/plain": [
              "True"
            ]
          },
          "metadata": {
            "tags": []
          },
          "execution_count": 118
        }
      ]
    },
    {
      "cell_type": "markdown",
      "metadata": {
        "id": "-JvfDS_1eWy6"
      },
      "source": [
        "## <font color='#E123EC'>**Custom Protobufs**</font>\n",
        "\n",
        "In rare cases, you may want to parse a custom protobuf in TensorFlow. For this you can use the [`tf.io.decode_proto()`](https://www.tensorflow.org/api_docs/python/tf/io/decode_proto) function.\n"
      ]
    },
    {
      "cell_type": "code",
      "metadata": {
        "colab": {
          "base_uri": "https://localhost:8080/"
        },
        "id": "tAP0gWp1dcqa",
        "outputId": "c7e1fdc4-a31e-4dac-aab2-38764f45f3b2"
      },
      "source": [
        "person_tf = tf.io.decode_proto(\n",
        "    bytes = s,\n",
        "    message_type = 'Person',\n",
        "    field_names=[\"name\", \"id\", \"email\"],\n",
        "    output_types=[tf.string, tf.int32, tf.string],\n",
        "    descriptor_source=\"person.desc\"\n",
        "    )\n",
        "\n",
        "person_tf.values"
      ],
      "execution_count": null,
      "outputs": [
        {
          "output_type": "execute_result",
          "data": {
            "text/plain": [
              "[<tf.Tensor: shape=(1,), dtype=string, numpy=array([b'Heba'], dtype=object)>,\n",
              " <tf.Tensor: shape=(1,), dtype=int32, numpy=array([123], dtype=int32)>,\n",
              " <tf.Tensor: shape=(2,), dtype=string, numpy=array([b'a@b.com', b'c@d.com'], dtype=object)>]"
            ]
          },
          "metadata": {
            "tags": []
          },
          "execution_count": 119
        }
      ]
    },
    {
      "cell_type": "markdown",
      "metadata": {
        "id": "h3hTYyLNc5YE"
      },
      "source": [
        "## <font color='#E123EC'>**TensorFlow Protobufs**</font>\n",
        "\n",
        "The Example `protobuf` represents one instance in a dataset. It contains a l**ist of named features**, where each feature can either be a **list of byte strings**, a list of **floats** or a list of **integers**.\n",
        "\n",
        "\n",
        "* The definitions of `BytesList`, `FloatList` and `Int64List` are straightforward enough.\n",
        "   *  [packed = true] is used for repeated numerical fields, for a more efficient encoding.\n",
        "\n",
        "* A `my_feature_dict` either contains a **BytesList**, a **FloatList** or an **Int64List**.\n",
        "\n",
        "* A `Features` (with an s) contains a **dictionary** that maps a feature name to the corresponding feature value. \n",
        "\n",
        "* An `Example` just contains a `Features` object Here is how you could create a `tf.train.Example` representing the same person as earlier, and write it to TFRecord file."
      ]
    },
    {
      "cell_type": "markdown",
      "metadata": {
        "id": "xTegn1OvfKpo"
      },
      "source": [
        "\n",
        "\n",
        "```\n",
        "syntax = \"proto3\"; \n",
        "message BytesList { repeated bytes value = 1; } \n",
        "message FloatList { repeated float value = 1 [packed = true]; } \n",
        "message Int64List { repeated int64 value = 1 [packed = true]; }\n",
        "\n",
        "message Feature\n",
        " { oneof kind { \n",
        "     BytesList bytes_list = 1; \n",
        "     FloatList float_list = 2; \n",
        "     Int64List int64_list = 3;\n",
        "    } \n",
        "};\n",
        "message Features { map<string, Feature> feature = 1; }; \n",
        "message Example { Features features = 1; };\n",
        "\n",
        "```\n",
        "\n"
      ]
    },
    {
      "cell_type": "markdown",
      "metadata": {
        "id": "FaxpBpSWB9XG"
      },
      "source": [
        "**Warning**: in TensorFlow 2.0 and 2.1, there was a bug preventing `from tensorflow.train import X` so we work around it by writing `X = tf.train.X`. See https://github.com/tensorflow/tensorflow/issues/33289 for more details."
      ]
    },
    {
      "cell_type": "code",
      "metadata": {
        "id": "oQIF0VnDeDmP"
      },
      "source": [
        "from tensorflow.train import BytesList, FloatList, Int64List\n",
        "from tensorflow.train import Feature, Features, Example\n",
        "\n",
        "BytesList = tf.train.BytesList\n",
        "FloatList = tf.train.FloatList\n",
        "Int64List = tf.train.Int64List\n",
        "Feature = tf.train.Feature\n",
        "Features = tf.train.Features\n",
        "Example = tf.train.Example\n",
        "\n",
        "my_feature_dict = {\n",
        "            \"name\": Feature(bytes_list=BytesList(value=[b\"HebaMohamed\"])),\n",
        "            \"id\": Feature(int64_list=Int64List(value=[123])),\n",
        "            \"emails\": Feature(bytes_list=BytesList(value=[b\"mohamedheba1998@gmail.com\", b\"hebamohamed14101998@gmail.com\"]))\n",
        "        }\n",
        "\n",
        "person_example = Example(   features = Features(feature = my_feature_dict)  )\n"
      ],
      "execution_count": null,
      "outputs": []
    },
    {
      "cell_type": "markdown",
      "metadata": {
        "id": "Va4nLlHNiLEV"
      },
      "source": [
        "Now that we have an Example protobuf, we can serialize it by calling its `SerializeToString()` method, then write the resulting data to a TFRecord file.\n",
        "\n",
        "> Normally you would write much more than just one example! Typically, you would create a conversion script that reads from your current format (say, CSV files), creates an Example protobuf for each instance, serializes them and saves them to several TFRecord files, ideally shuffling them in the process. This requires a bit of work, so once again make sure it is really necessary (perhaps your pipeline works fine with CSV files)"
      ]
    },
    {
      "cell_type": "code",
      "metadata": {
        "id": "eNlPqWZSfRT4"
      },
      "source": [
        "with tf.io.TFRecordWriter(\"my_contacts.tfrecord\") as f:\n",
        "    f.write(person_example.SerializeToString())"
      ],
      "execution_count": null,
      "outputs": []
    },
    {
      "cell_type": "code",
      "metadata": {
        "colab": {
          "base_uri": "https://localhost:8080/"
        },
        "id": "z08tPPZbfr_2",
        "outputId": "5a943703-ea8d-4bee-d6ec-9aed8e891591"
      },
      "source": [
        "parsed_example"
      ],
      "execution_count": null,
      "outputs": [
        {
          "output_type": "execute_result",
          "data": {
            "text/plain": [
              "{'image': <tensorflow.python.framework.sparse_tensor.SparseTensor at 0x7fdc29041890>}"
            ]
          },
          "metadata": {
            "tags": []
          },
          "execution_count": 162
        }
      ]
    },
    {
      "cell_type": "markdown",
      "metadata": {
        "id": "_Fao70RdimST"
      },
      "source": [
        "## <font color='#E123EC'>**Loading and Parsing Examples**</font>\n",
        "\n",
        "To load the serialized `Example` protobufs, we will use a t`f.data.TFRecordDataset` once again, and we will parse each `Example` using `tf.io.parse_single_example()`."
      ]
    },
    {
      "cell_type": "markdown",
      "metadata": {
        "id": "UQ7LCKhJjnR8"
      },
      "source": [
        "The description is a dictionary that maps each feature name to either a `tf.io.FixedLenFeature` descriptor indicating:\n",
        "* The feature’s shape\n",
        "* Type \n",
        "* Default value\n",
        "\n",
        "\n",
        "Or a `tf.io.VarLenFeature` descriptor indicating:\n",
        "* Only type (if the length may vary, such as for the \"emails\" feature)"
      ]
    },
    {
      "cell_type": "code",
      "metadata": {
        "id": "AeOLDs8Fg1v1"
      },
      "source": [
        "feature_description = {\n",
        "    \"name\": tf.io.FixedLenFeature([], tf.string, default_value=\"\"),\n",
        "    \"id\": tf.io.FixedLenFeature([], tf.int64, default_value=0),\n",
        "    \"emails\": tf.io.VarLenFeature(tf.string),\n",
        "}"
      ],
      "execution_count": null,
      "outputs": []
    },
    {
      "cell_type": "code",
      "metadata": {
        "id": "FZmAFdqZjEtI"
      },
      "source": [
        "for serialized_example in tf.data.TFRecordDataset([\"my_contacts.tfrecord\"]):\n",
        "    parsed_example = tf.io.parse_single_example(serialized_example,\n",
        "                                                feature_description)"
      ],
      "execution_count": null,
      "outputs": []
    },
    {
      "cell_type": "code",
      "metadata": {
        "colab": {
          "base_uri": "https://localhost:8080/"
        },
        "id": "g1u2iftggUMo",
        "outputId": "791ff1cc-713d-4199-d1ef-35615fe43a13"
      },
      "source": [
        "parsed_example['emails'].values[-1]"
      ],
      "execution_count": null,
      "outputs": [
        {
          "output_type": "execute_result",
          "data": {
            "text/plain": [
              "<tf.Tensor: shape=(), dtype=string, numpy=b'hebamohamed14101998@gmail.com'>"
            ]
          },
          "metadata": {
            "tags": []
          },
          "execution_count": 165
        }
      ]
    },
    {
      "cell_type": "markdown",
      "metadata": {
        "id": "krtoEoMkkR83"
      },
      "source": [
        "The <font color='#EF6610'>fixed length</font>  features are parsed as <font color='#EF6610'>regular tensors</font>, but the <font color='#1159C0'>variable length</font> features are parsed as <font color='#1159C0'>sparse tensors</font>. \n",
        "\n",
        "* You can convert a sparse tensor to a dense tensor using `tf.sparse.to_dense()`, but in this case it is simpler to just access its values."
      ]
    },
    {
      "cell_type": "code",
      "metadata": {
        "colab": {
          "base_uri": "https://localhost:8080/"
        },
        "id": "poEiF873gar9",
        "outputId": "a7c0e3fc-f170-4754-9c70-dc44256324bb"
      },
      "source": [
        "tf.sparse.to_dense(parsed_example[\"emails\"], default_value=b\"\")"
      ],
      "execution_count": null,
      "outputs": [
        {
          "output_type": "execute_result",
          "data": {
            "text/plain": [
              "<tf.Tensor: shape=(2,), dtype=string, numpy=\n",
              "array([b'mohamedheba1998@gmail.com', b'hebamohamed14101998@gmail.com'],\n",
              "      dtype=object)>"
            ]
          },
          "metadata": {
            "tags": []
          },
          "execution_count": 138
        }
      ]
    },
    {
      "cell_type": "code",
      "metadata": {
        "colab": {
          "base_uri": "https://localhost:8080/"
        },
        "id": "mWbIQCwRgw4J",
        "outputId": "66116334-f017-40e9-ebe0-3f52900d832e"
      },
      "source": [
        "parsed_example['emails'].values"
      ],
      "execution_count": null,
      "outputs": [
        {
          "output_type": "execute_result",
          "data": {
            "text/plain": [
              "<tf.Tensor: shape=(2,), dtype=string, numpy=\n",
              "array([b'mohamedheba1998@gmail.com', b'hebamohamed14101998@gmail.com'],\n",
              "      dtype=object)>"
            ]
          },
          "metadata": {
            "tags": []
          },
          "execution_count": 139
        }
      ]
    },
    {
      "cell_type": "markdown",
      "metadata": {
        "id": "QiEfzUgjlAS8"
      },
      "source": [
        "### <font color='#0C92AC'>**Putting Images in TFRecords**</font>\n",
        "\n",
        "A `BytesList` can contain any binary data you want, including any serialized object. \n",
        "\n",
        "- For example, you can use `tf.io.encode_jpeg()` to encode an image using the **JPEG** format.\n",
        "- You can use `tf.io.decode_image()`, which can decode any **BMP, GIF, JPEG or PNG** image\n"
      ]
    },
    {
      "cell_type": "code",
      "metadata": {
        "colab": {
          "base_uri": "https://localhost:8080/",
          "height": 284
        },
        "id": "4NgVo27clz3v",
        "outputId": "9838039f-ec71-42ab-8603-d49ba2737807"
      },
      "source": [
        "from sklearn.datasets import load_sample_images\n",
        "\n",
        "img = load_sample_images()['images'][0]\n",
        "plt.imshow(img)\n",
        "plt.title(\"Original Image\")\n",
        "plt.show()\n"
      ],
      "execution_count": null,
      "outputs": [
        {
          "output_type": "display_data",
          "data": {
            "image/png": "[encoded data removed]",
            "text/plain": [
              "<Figure size 432x288 with 1 Axes>"
            ]
          },
          "metadata": {
            "tags": [],
            "needs_background": "light"
          }
        }
      ]
    },
    {
      "cell_type": "markdown",
      "metadata": {
        "id": "f1dOwtDTmmy-"
      },
      "source": [
        "1. You can also store any tensor you want in a `BytesList` by serializing the tensor using `tf.io.serialize_tensor()`, then putting the resulting byte string in a `BytesList` feature. \n",
        "\n",
        "2. Parse the TFRecord, you can parse this data using `tf.io.parse_tensor()`."
      ]
    },
    {
      "cell_type": "code",
      "metadata": {
        "id": "jFQ-__2OmEX0"
      },
      "source": [
        "data = tf.io.encode_jpeg(img)\n",
        "\n",
        "example_with_image = Example(features = Features (feature = {\n",
        "    \"image\": Feature(bytes_list = BytesList(value = [data.numpy()]))\n",
        "}))\n",
        "\n",
        "serialized_example = example_with_image.SerializeToString()\n",
        "\n",
        "# then save to TFRecord\n",
        "feature_description = { \"image\": tf.io.VarLenFeature(tf.string) }\n",
        "parsed_example = tf.io.parse_single_example(serialized_example, feature_description)\n"
      ],
      "execution_count": null,
      "outputs": []
    },
    {
      "cell_type": "code",
      "metadata": {
        "colab": {
          "base_uri": "https://localhost:8080/",
          "height": 264
        },
        "id": "yQH2hLg8oRB7",
        "outputId": "bd169ff7-a3e8-4d10-e79e-6b8e535e61fe"
      },
      "source": [
        "decoded_img = tf.io.decode_jpeg(parsed_example[\"image\"].values[0])\n",
        "\n",
        "''' Or use decode_image() which supports BMP, GIF, JPEG and PNG formats'''\n",
        "# decoded_img = tf.io.decode_image(example_with_image[\"image\"].values[0])\n",
        "\n",
        "plt.imshow(decoded_img)\n",
        "plt.title(\"Decoded Image\")\n",
        "plt.axis(\"off\")\n",
        "plt.show()"
      ],
      "execution_count": null,
      "outputs": [
        {
          "output_type": "display_data",
          "data": {
            "image/png": "[encoded data removed]",
            "text/plain": [
              "<Figure size 432x288 with 1 Axes>"
            ]
          },
          "metadata": {
            "tags": [],
            "needs_background": "light"
          }
        }
      ]
    },
    {
      "cell_type": "markdown",
      "metadata": {
        "id": "C09Q8lt8B9XI"
      },
      "source": [
        " ### <font color='#0C92AC'>**Putting Tensors and Sparse Tensors in TFRecords**</font>\n",
        "\n",
        "Tensors can be serialized and parsed easily using `tf.io.serialize_tensor()` and `tf.io.parse_tensor()`:"
      ]
    },
    {
      "cell_type": "code",
      "metadata": {
        "id": "6MGYi6ReB9XI",
        "colab": {
          "base_uri": "https://localhost:8080/"
        },
        "outputId": "0508a6b9-000b-4980-ed8b-b44ef8ea64fb"
      },
      "source": [
        "t = tf.constant([[0., 1.], [2., 3.], [4., 5.]])\n",
        "s = tf.io.serialize_tensor(t)\n",
        "s"
      ],
      "execution_count": null,
      "outputs": [
        {
          "output_type": "execute_result",
          "data": {
            "text/plain": [
              "<tf.Tensor: shape=(), dtype=string, numpy=b'\\x08\\x01\\x12\\x08\\x12\\x02\\x08\\x03\\x12\\x02\\x08\\x02\"\\x18\\x00\\x00\\x00\\x00\\x00\\x00\\x80?\\x00\\x00\\x00@\\x00\\x00@@\\x00\\x00\\x80@\\x00\\x00\\xa0@'>"
            ]
          },
          "metadata": {
            "tags": []
          },
          "execution_count": 154
        }
      ]
    },
    {
      "cell_type": "code",
      "metadata": {
        "id": "GKTXcrd6B9XI",
        "colab": {
          "base_uri": "https://localhost:8080/"
        },
        "outputId": "18b6db1a-921d-4d5b-bec6-20db5b2ebad2"
      },
      "source": [
        "tf.io.parse_tensor(s, out_type=tf.float32)"
      ],
      "execution_count": null,
      "outputs": [
        {
          "output_type": "execute_result",
          "data": {
            "text/plain": [
              "<tf.Tensor: shape=(3, 2), dtype=float32, numpy=\n",
              "array([[0., 1.],\n",
              "       [2., 3.],\n",
              "       [4., 5.]], dtype=float32)>"
            ]
          },
          "metadata": {
            "tags": []
          },
          "execution_count": 155
        }
      ]
    },
    {
      "cell_type": "code",
      "metadata": {
        "id": "-x0Bx1PQB9XI",
        "colab": {
          "base_uri": "https://localhost:8080/"
        },
        "outputId": "fff4b86f-3a2c-4e5e-f0f1-10a4d80327a7"
      },
      "source": [
        "serialized_sparse = tf.io.serialize_sparse(parsed_example[\"emails\"])\n",
        "serialized_sparse"
      ],
      "execution_count": null,
      "outputs": [
        {
          "output_type": "execute_result",
          "data": {
            "text/plain": [
              "<tf.Tensor: shape=(3,), dtype=string, numpy=\n",
              "array([b'\\x08\\t\\x12\\x08\\x12\\x02\\x08\\x02\\x12\\x02\\x08\\x01\"\\x10\\x00\\x00\\x00\\x00\\x00\\x00\\x00\\x00\\x01\\x00\\x00\\x00\\x00\\x00\\x00\\x00',\n",
              "       b'\\x08\\x07\\x12\\x04\\x12\\x02\\x08\\x02\"8\\x19\\x1dmohamedheba1998@gmail.comhebamohamed14101998@gmail.com',\n",
              "       b'\\x08\\t\\x12\\x04\\x12\\x02\\x08\\x01\"\\x08\\x02\\x00\\x00\\x00\\x00\\x00\\x00\\x00'],\n",
              "      dtype=object)>"
            ]
          },
          "metadata": {
            "tags": []
          },
          "execution_count": 166
        }
      ]
    },
    {
      "cell_type": "code",
      "metadata": {
        "id": "DdyeVh3QB9XI",
        "colab": {
          "base_uri": "https://localhost:8080/"
        },
        "outputId": "1af090a2-e844-42a5-fb50-01707a294b75"
      },
      "source": [
        "BytesList(value=serialized_sparse.numpy())"
      ],
      "execution_count": null,
      "outputs": [
        {
          "output_type": "execute_result",
          "data": {
            "text/plain": [
              "value: \"\\010\\t\\022\\010\\022\\002\\010\\002\\022\\002\\010\\001\\\"\\020\\000\\000\\000\\000\\000\\000\\000\\000\\001\\000\\000\\000\\000\\000\\000\\000\"\n",
              "value: \"\\010\\007\\022\\004\\022\\002\\010\\002\\\"8\\031\\035mohamedheba1998@gmail.comhebamohamed14101998@gmail.com\"\n",
              "value: \"\\010\\t\\022\\004\\022\\002\\010\\001\\\"\\010\\002\\000\\000\\000\\000\\000\\000\\000\""
            ]
          },
          "metadata": {
            "tags": []
          },
          "execution_count": 167
        }
      ]
    },
    {
      "cell_type": "markdown",
      "metadata": {
        "id": "C6DDg8fSnCw9"
      },
      "source": [
        "Instead of parsing examples one by one using `tf.io.parse_single_example()`, you may want to parse them batch by batch using `tf.io.parse_example()`.\n",
        "\n",
        "\n"
      ]
    },
    {
      "cell_type": "code",
      "metadata": {
        "id": "yrzzSRJMB9XJ"
      },
      "source": [
        "dataset = tf.data.TFRecordDataset([\"my_contacts.tfrecord\"]).batch(10)\n",
        "for serialized_examples in dataset:\n",
        "    parsed_examples = tf.io.parse_example(serialized_examples,\n",
        "                                          feature_description)"
      ],
      "execution_count": null,
      "outputs": []
    },
    {
      "cell_type": "code",
      "metadata": {
        "id": "h-zYUg2lB9XJ",
        "colab": {
          "base_uri": "https://localhost:8080/"
        },
        "outputId": "79e246a2-f593-4494-d67e-2f3de125a0e9"
      },
      "source": [
        "parsed_examples"
      ],
      "execution_count": null,
      "outputs": [
        {
          "output_type": "execute_result",
          "data": {
            "text/plain": [
              "{'emails': <tensorflow.python.framework.sparse_tensor.SparseTensor at 0x7fdc29078a10>,\n",
              " 'id': <tf.Tensor: shape=(1,), dtype=int64, numpy=array([123])>,\n",
              " 'name': <tf.Tensor: shape=(1,), dtype=string, numpy=array([b'HebaMohamed'], dtype=object)>}"
            ]
          },
          "metadata": {
            "tags": []
          },
          "execution_count": 170
        }
      ]
    },
    {
      "cell_type": "markdown",
      "metadata": {
        "id": "R3j-DaHWpR4g"
      },
      "source": [
        "## <font color='#E123EC'>**Handling Lists of Lists Using the SequenceExample Protobuf**</font>\n",
        "\n",
        "For example, suppose you want to classify text documents. Each document may be represented as a list of sentences, where each sentence is represented as a list of words. And perhaps each document also has a list of comments, where each comment is also represented as a list of words. Moreover, there may be some contextual data as well, such as the document’s author, title and publication date. \n",
        "\n",
        "<font color='#5FCB20'>**TensorFlow’s `SequenceExample` protobuf is designed for such use cases.**\n",
        "```\n",
        "message FeatureList { repeated Feature feature = 1; }; \n",
        "message FeatureLists { map<string, FeatureList> feature_list = 1; }; \n",
        "message SequenceExample { \n",
        "  Features context = 1; \n",
        "  FeatureLists feature_lists = 2;\n",
        "};\n",
        "```\n",
        "\n"
      ]
    },
    {
      "cell_type": "markdown",
      "metadata": {
        "id": "aSkDG3toB9XJ"
      },
      "source": [
        "**Warning**: in TensorFlow 2.0 and 2.1, there was a bug preventing `from tensorflow.train import X` so we work around it by writing `X = tf.train.X`. See https://github.com/tensorflow/tensorflow/issues/33289 for more details."
      ]
    },
    {
      "cell_type": "code",
      "metadata": {
        "id": "T-L6SUn0nmBo"
      },
      "source": [
        "from tensorflow.train import FeatureList, FeatureLists, SequenceExample\n",
        "\n",
        "FeatureList = tf.train.FeatureList\n",
        "FeatureLists = tf.train.FeatureLists\n",
        "SequenceExample = tf.train.SequenceExample\n",
        "\n",
        "context = Features(feature={\n",
        "    \"author_id\": Feature(int64_list=Int64List(value=[123])),\n",
        "    \"title\": Feature(bytes_list=BytesList(value=[b\"A\", b\"desert\", b\"place\", b\".\"])),\n",
        "    \"pub_date\": Feature(int64_list=Int64List(value=[1623, 12, 25]))\n",
        "})\n",
        "\n",
        "content = [[\"When\", \"shall\", \"we\", \"three\", \"meet\", \"again\", \"?\"],\n",
        "           [\"In\", \"thunder\", \",\", \"lightning\", \",\", \"or\", \"in\", \"rain\", \"?\"]]\n",
        "comments = [[\"When\", \"the\", \"hurlyburly\", \"'s\", \"done\", \".\"],\n",
        "            [\"When\", \"the\", \"battle\", \"'s\", \"lost\", \"and\", \"won\", \".\"]]"
      ],
      "execution_count": null,
      "outputs": []
    },
    {
      "cell_type": "code",
      "metadata": {
        "id": "wc3XDLD-yt7t"
      },
      "source": [
        "def words_to_feature(words):\n",
        "  return Feature(bytes_list = BytesList(value=[word.encode('utf-8')\n",
        "                                             for word in words]))"
      ],
      "execution_count": null,
      "outputs": []
    },
    {
      "cell_type": "code",
      "metadata": {
        "id": "06x56ZqDzbJ-"
      },
      "source": [
        "content_features = [words_to_feature(sentence) for sentence in content]\n",
        "comments_features = [words_to_feature(comment) for comment in comments]  "
      ],
      "execution_count": null,
      "outputs": []
    },
    {
      "cell_type": "markdown",
      "metadata": {
        "id": "vJcjf78n0sE3"
      },
      "source": [
        "A `SequenceExample` contains a:\n",
        "- A `Features` object for the contextual data(context).\n",
        "- A `FeatureLists` object which contains one or more named FeatureList objects (feature_lists).\n",
        "   * Two feature lists \"content\" and another named \"comments\".\n",
        "   * Each `FeatureList` just contains a list of Feature objects,each of which may be a list of byte strings, a list of 64-bit **integers** or a list of **floats**.\n",
        "   * In this example, each `Feature` would represent a **sentence** or a **comment**, perhaps in the form of a list of **word** identifiers.\n"
      ]
    },
    {
      "cell_type": "code",
      "metadata": {
        "id": "PllG0LYT0sjy"
      },
      "source": [
        "sequence_example = SequenceExample(\n",
        "    context=context,\n",
        "    feature_lists=FeatureLists(feature_list={\n",
        "        \"content\": FeatureList(feature=content_features),\n",
        "        \"comments\": FeatureList(feature=comments_features)\n",
        "    }))"
      ],
      "execution_count": null,
      "outputs": []
    },
    {
      "cell_type": "code",
      "metadata": {
        "id": "Q1hBGVWOzk1k"
      },
      "source": [
        "sequence_example"
      ],
      "execution_count": null,
      "outputs": []
    },
    {
      "cell_type": "code",
      "metadata": {
        "id": "AHZy2RzLzxSO"
      },
      "source": [
        "serialized_sequence_example = sequence_example.SerializeToString()"
      ],
      "execution_count": null,
      "outputs": []
    },
    {
      "cell_type": "markdown",
      "metadata": {
        "id": "MDC7Klhn2BDI"
      },
      "source": [
        "We use `tf.io.parse_single_sequence_example()` to parse a single `SequenceExample` \n",
        "\n",
        "- return a tuple containing the **features** (as a **dictionary**) and the **feature lists** (also as a **dictionary**)"
      ]
    },
    {
      "cell_type": "code",
      "metadata": {
        "id": "zKSuQ5JUz6QT"
      },
      "source": [
        "\n",
        "context_feature_descriptions = {\n",
        "    \"author_id\": tf.io.FixedLenFeature([], tf.int64, default_value=0),\n",
        "    \"title\": tf.io.VarLenFeature(tf.string),\n",
        "    \"pub_date\": tf.io.FixedLenFeature([3], tf.int64, default_value=[0, 0, 0]),\n",
        "}\n",
        "sequence_feature_descriptions = {\n",
        "    \"content\": tf.io.VarLenFeature(tf.string),\n",
        "    \"comments\": tf.io.VarLenFeature(tf.string),\n",
        "}\n",
        "\n",
        "parsed_context, parsed_feature_lists = tf.io.parse_single_sequence_example(\n",
        "    serialized_sequence_example, context_feature_descriptions,\n",
        "    sequence_feature_descriptions)"
      ],
      "execution_count": null,
      "outputs": []
    },
    {
      "cell_type": "code",
      "metadata": {
        "colab": {
          "base_uri": "https://localhost:8080/"
        },
        "id": "TOCLRWBb0Lak",
        "outputId": "da5596fe-7eb2-456a-c901-3a915c5d9290"
      },
      "source": [
        "parsed_context"
      ],
      "execution_count": null,
      "outputs": [
        {
          "output_type": "execute_result",
          "data": {
            "text/plain": [
              "{'author_id': <tf.Tensor: shape=(), dtype=int64, numpy=123>,\n",
              " 'pub_date': <tf.Tensor: shape=(3,), dtype=int64, numpy=array([1623,   12,   25])>,\n",
              " 'title': <tensorflow.python.framework.sparse_tensor.SparseTensor at 0x7fdc28a23e50>}"
            ]
          },
          "metadata": {
            "tags": []
          },
          "execution_count": 179
        }
      ]
    },
    {
      "cell_type": "code",
      "metadata": {
        "colab": {
          "base_uri": "https://localhost:8080/"
        },
        "id": "eoc_t65P0NVu",
        "outputId": "1aae078e-98f6-4e18-be30-bfcebb94487d"
      },
      "source": [
        "parsed_context['title'].values"
      ],
      "execution_count": null,
      "outputs": [
        {
          "output_type": "execute_result",
          "data": {
            "text/plain": [
              "<tf.Tensor: shape=(4,), dtype=string, numpy=array([b'A', b'desert', b'place', b'.'], dtype=object)>"
            ]
          },
          "metadata": {
            "tags": []
          },
          "execution_count": 180
        }
      ]
    },
    {
      "cell_type": "code",
      "metadata": {
        "colab": {
          "base_uri": "https://localhost:8080/"
        },
        "id": "NW_CnfAI0QcQ",
        "outputId": "ddfa5cc9-44e9-4512-adeb-c468bbb2f53a"
      },
      "source": [
        "parsed_feature_lists"
      ],
      "execution_count": null,
      "outputs": [
        {
          "output_type": "execute_result",
          "data": {
            "text/plain": [
              "{'comments': <tensorflow.python.framework.sparse_tensor.SparseTensor at 0x7fdc28a23710>,\n",
              " 'content': <tensorflow.python.framework.sparse_tensor.SparseTensor at 0x7fdc354845d0>}"
            ]
          },
          "metadata": {
            "tags": []
          },
          "execution_count": 181
        }
      ]
    },
    {
      "cell_type": "markdown",
      "metadata": {
        "id": "UJtcIlKu2Ze-"
      },
      "source": [
        "If the feature lists contain sequences of varying sizes, you may want to convert them to ragged tensors using `tf.RaggedTensor.from_sparse() `"
      ]
    },
    {
      "cell_type": "code",
      "metadata": {
        "colab": {
          "base_uri": "https://localhost:8080/"
        },
        "id": "UGmCOwkz0SWm",
        "outputId": "a1a0d2ba-d795-4303-d51c-17d7f37b0ea2"
      },
      "source": [
        "print(tf.RaggedTensor.from_sparse(parsed_feature_lists[\"content\"]))"
      ],
      "execution_count": null,
      "outputs": [
        {
          "output_type": "stream",
          "text": [
            "<tf.RaggedTensor [[b'When', b'shall', b'we', b'three', b'meet', b'again', b'?'], [b'In', b'thunder', b',', b'lightning', b',', b'or', b'in', b'rain', b'?']]>\n"
          ],
          "name": "stdout"
        }
      ]
    },
    {
      "cell_type": "markdown",
      "metadata": {
        "id": "BEJYSnZm3tu7"
      },
      "source": [
        "#<font color='#8010CA'>**The Features API**</font>"
      ]
    },
    {
      "cell_type": "code",
      "metadata": {
        "id": "8sT-JsXPB9XM"
      },
      "source": [
        "import os\n",
        "import tarfile\n",
        "import urllib.request\n",
        "\n",
        "DOWNLOAD_ROOT = \"https://raw.githubusercontent.com/ageron/handson-ml2/master/\"\n",
        "HOUSING_PATH = os.path.join(\"datasets\", \"housing\")\n",
        "HOUSING_URL = DOWNLOAD_ROOT + \"datasets/housing/housing.tgz\"\n",
        "\n",
        "def fetch_housing_data(housing_url=HOUSING_URL, housing_path=HOUSING_PATH):\n",
        "    os.makedirs(housing_path, exist_ok=True)\n",
        "    tgz_path = os.path.join(housing_path, \"housing.tgz\")\n",
        "    urllib.request.urlretrieve(housing_url, tgz_path)\n",
        "    housing_tgz = tarfile.open(tgz_path)\n",
        "    housing_tgz.extractall(path=housing_path)\n",
        "    housing_tgz.close()"
      ],
      "execution_count": null,
      "outputs": []
    },
    {
      "cell_type": "code",
      "metadata": {
        "id": "tB944fAnB9XM"
      },
      "source": [
        "fetch_housing_data()"
      ],
      "execution_count": null,
      "outputs": []
    },
    {
      "cell_type": "code",
      "metadata": {
        "id": "v31nGNJ_B9XM"
      },
      "source": [
        "import pandas as pd\n",
        "\n",
        "def load_housing_data(housing_path=HOUSING_PATH):\n",
        "    csv_path = os.path.join(housing_path, \"housing.csv\")\n",
        "    return pd.read_csv(csv_path)"
      ],
      "execution_count": null,
      "outputs": []
    },
    {
      "cell_type": "code",
      "metadata": {
        "id": "ZaNLh5niB9XM",
        "outputId": "20dd7016-877f-4d0d-b3a7-d85ec22bce3f"
      },
      "source": [
        "housing = load_housing_data()\n",
        "housing.head()"
      ],
      "execution_count": null,
      "outputs": [
        {
          "output_type": "execute_result",
          "data": {
            "text/html": [
              "<div>\n",
              "<style scoped>\n",
              "    .dataframe tbody tr th:only-of-type {\n",
              "        vertical-align: middle;\n",
              "    }\n",
              "\n",
              "    .dataframe tbody tr th {\n",
              "        vertical-align: top;\n",
              "    }\n",
              "\n",
              "    .dataframe thead th {\n",
              "        text-align: right;\n",
              "    }\n",
              "</style>\n",
              "<table border=\"1\" class=\"dataframe\">\n",
              "  <thead>\n",
              "    <tr style=\"text-align: right;\">\n",
              "      <th></th>\n",
              "      <th>longitude</th>\n",
              "      <th>latitude</th>\n",
              "      <th>housing_median_age</th>\n",
              "      <th>total_rooms</th>\n",
              "      <th>total_bedrooms</th>\n",
              "      <th>population</th>\n",
              "      <th>households</th>\n",
              "      <th>median_income</th>\n",
              "      <th>median_house_value</th>\n",
              "      <th>ocean_proximity</th>\n",
              "    </tr>\n",
              "  </thead>\n",
              "  <tbody>\n",
              "    <tr>\n",
              "      <th>0</th>\n",
              "      <td>-122.23</td>\n",
              "      <td>37.88</td>\n",
              "      <td>41.0</td>\n",
              "      <td>880.0</td>\n",
              "      <td>129.0</td>\n",
              "      <td>322.0</td>\n",
              "      <td>126.0</td>\n",
              "      <td>8.3252</td>\n",
              "      <td>452600.0</td>\n",
              "      <td>NEAR BAY</td>\n",
              "    </tr>\n",
              "    <tr>\n",
              "      <th>1</th>\n",
              "      <td>-122.22</td>\n",
              "      <td>37.86</td>\n",
              "      <td>21.0</td>\n",
              "      <td>7099.0</td>\n",
              "      <td>1106.0</td>\n",
              "      <td>2401.0</td>\n",
              "      <td>1138.0</td>\n",
              "      <td>8.3014</td>\n",
              "      <td>358500.0</td>\n",
              "      <td>NEAR BAY</td>\n",
              "    </tr>\n",
              "    <tr>\n",
              "      <th>2</th>\n",
              "      <td>-122.24</td>\n",
              "      <td>37.85</td>\n",
              "      <td>52.0</td>\n",
              "      <td>1467.0</td>\n",
              "      <td>190.0</td>\n",
              "      <td>496.0</td>\n",
              "      <td>177.0</td>\n",
              "      <td>7.2574</td>\n",
              "      <td>352100.0</td>\n",
              "      <td>NEAR BAY</td>\n",
              "    </tr>\n",
              "    <tr>\n",
              "      <th>3</th>\n",
              "      <td>-122.25</td>\n",
              "      <td>37.85</td>\n",
              "      <td>52.0</td>\n",
              "      <td>1274.0</td>\n",
              "      <td>235.0</td>\n",
              "      <td>558.0</td>\n",
              "      <td>219.0</td>\n",
              "      <td>5.6431</td>\n",
              "      <td>341300.0</td>\n",
              "      <td>NEAR BAY</td>\n",
              "    </tr>\n",
              "    <tr>\n",
              "      <th>4</th>\n",
              "      <td>-122.25</td>\n",
              "      <td>37.85</td>\n",
              "      <td>52.0</td>\n",
              "      <td>1627.0</td>\n",
              "      <td>280.0</td>\n",
              "      <td>565.0</td>\n",
              "      <td>259.0</td>\n",
              "      <td>3.8462</td>\n",
              "      <td>342200.0</td>\n",
              "      <td>NEAR BAY</td>\n",
              "    </tr>\n",
              "  </tbody>\n",
              "</table>\n",
              "</div>"
            ],
            "text/plain": [
              "   longitude  latitude  housing_median_age  total_rooms  total_bedrooms  \\\n",
              "0    -122.23     37.88                41.0        880.0           129.0   \n",
              "1    -122.22     37.86                21.0       7099.0          1106.0   \n",
              "2    -122.24     37.85                52.0       1467.0           190.0   \n",
              "3    -122.25     37.85                52.0       1274.0           235.0   \n",
              "4    -122.25     37.85                52.0       1627.0           280.0   \n",
              "\n",
              "   population  households  median_income  median_house_value ocean_proximity  \n",
              "0       322.0       126.0         8.3252            452600.0        NEAR BAY  \n",
              "1      2401.0      1138.0         8.3014            358500.0        NEAR BAY  \n",
              "2       496.0       177.0         7.2574            352100.0        NEAR BAY  \n",
              "3       558.0       219.0         5.6431            341300.0        NEAR BAY  \n",
              "4       565.0       259.0         3.8462            342200.0        NEAR BAY  "
            ]
          },
          "metadata": {
            "tags": []
          },
          "execution_count": 88
        }
      ]
    },
    {
      "cell_type": "markdown",
      "metadata": {
        "id": "QeLisEx2_5o5"
      },
      "source": [
        "For example, let’s tweak the `housing_median_age` numerical column to define how it should be scaled. \n",
        "\n",
        "> Note that this requires computing ahead of time the **mean** and **standard deviation** of this feature in the training set."
      ]
    },
    {
      "cell_type": "code",
      "metadata": {
        "id": "UsfYIjiJ_HSH"
      },
      "source": [
        "housing_median_age = tf.feature_column.numeric_column(\"housing_median_age\")"
      ],
      "execution_count": null,
      "outputs": []
    },
    {
      "cell_type": "code",
      "metadata": {
        "id": "cztEJiC4B9XN"
      },
      "source": [
        "age_mean, age_std = X_mean[1], X_std[1]  # The median age is column in 1\n",
        "housing_median_age = tf.feature_column.numeric_column(\n",
        "    \"housing_median_age\", normalizer_fn=lambda x: (x - age_mean) / age_std)"
      ],
      "execution_count": null,
      "outputs": []
    },
    {
      "cell_type": "markdown",
      "metadata": {
        "id": "crazVxUKBUbW"
      },
      "source": [
        "**Effectively transforming a numerical feature into a categorical feature.**\n",
        "\n",
        "> For example let’s create a bucketized column based on the median_income column, with 5 buckets: less than 1.5 ($15,000), then 1.5 to 3, 3 to 4.5, 4.5 to 6., and above 6. (notice that when you specify 4 boundaries, there are actually 5 buckets):"
      ]
    },
    {
      "cell_type": "code",
      "metadata": {
        "id": "8_0DNbxeB9XN"
      },
      "source": [
        "median_income = tf.feature_column.numeric_column(\"median_income\")\n",
        "bucketized_income = tf.feature_column.bucketized_column(\n",
        "    median_income, boundaries=[1.5, 3., 4.5, 6.])"
      ],
      "execution_count": null,
      "outputs": []
    },
    {
      "cell_type": "markdown",
      "metadata": {
        "id": "mltUW8L9Ng3p"
      },
      "source": [
        "If the median_income feature is equal to, say, **3.2**, then the bucketized_income feature will automatically be equal to **2** (the **index** of the corresponding income bucket)."
      ]
    },
    {
      "cell_type": "code",
      "metadata": {
        "id": "IoMpwQUdB9XN",
        "outputId": "b9c298d3-166f-4844-ae3e-7ba5e8d86f7e"
      },
      "source": [
        "bucketized_income"
      ],
      "execution_count": null,
      "outputs": [
        {
          "output_type": "execute_result",
          "data": {
            "text/plain": [
              "BucketizedColumn(source_column=NumericColumn(key='median_income', shape=(1,), default_value=None, dtype=tf.float32, normalizer_fn=None), boundaries=(1.5, 3.0, 4.5, 6.0))"
            ]
          },
          "metadata": {
            "tags": []
          },
          "execution_count": 92
        }
      ]
    },
    {
      "cell_type": "markdown",
      "metadata": {
        "id": "Qnx-MxM_HRD4"
      },
      "source": [
        "## <font color='#E123EC'>**Categorical Features**</font>"
      ]
    },
    {
      "cell_type": "code",
      "metadata": {
        "id": "BnAJuarlB9XN"
      },
      "source": [
        "ocean_prox_vocab = ['<1H OCEAN', 'INLAND', 'ISLAND', 'NEAR BAY', 'NEAR OCEAN']\n",
        "ocean_proximity = tf.feature_column.categorical_column_with_vocabulary_list(\n",
        "    \"ocean_proximity\", ocean_prox_vocab)"
      ],
      "execution_count": null,
      "outputs": []
    },
    {
      "cell_type": "code",
      "metadata": {
        "id": "7pYb9KBHB9XN",
        "outputId": "bb25745a-2702-4a3e-9df6-8f429755b05e"
      },
      "source": [
        "ocean_proximity"
      ],
      "execution_count": null,
      "outputs": [
        {
          "output_type": "execute_result",
          "data": {
            "text/plain": [
              "VocabularyListCategoricalColumn(key='ocean_proximity', vocabulary_list=('<1H OCEAN', 'INLAND', 'ISLAND', 'NEAR BAY', 'NEAR OCEAN'), dtype=tf.string, default_value=-1, num_oov_buckets=0)"
            ]
          },
          "metadata": {
            "tags": []
          },
          "execution_count": 94
        }
      ]
    },
    {
      "cell_type": "code",
      "metadata": {
        "id": "Ey1gdurBB9XN",
        "outputId": "f1b9d9da-2520-49f8-ff4a-759857cbfaf5"
      },
      "source": [
        "# Just an example, it's not used later on\n",
        "city_hash = tf.feature_column.categorical_column_with_hash_bucket(\n",
        "    \"city\", hash_bucket_size=1000)\n",
        "city_hash"
      ],
      "execution_count": null,
      "outputs": [
        {
          "output_type": "execute_result",
          "data": {
            "text/plain": [
              "HashedCategoricalColumn(key='city', hash_bucket_size=1000, dtype=tf.string)"
            ]
          },
          "metadata": {
            "tags": []
          },
          "execution_count": 95
        }
      ]
    },
    {
      "cell_type": "markdown",
      "metadata": {
        "id": "HYWvz_w7Hmw2"
      },
      "source": [
        "## <font color='#E123EC'>**Crossed Categorical Features**</font>"
      ]
    },
    {
      "cell_type": "markdown",
      "metadata": {
        "id": "prhAhmPCIXub"
      },
      "source": [
        "The crossed column will compute a hash of every **age & ocean proximity** combination it comes across, modulo the `hash_bucket_size`, and this will give it the cross category ID. \n",
        "\n",
        "* You may then choose to use only this crossed column in your model.\n",
        "* Or include the individual columns."
      ]
    },
    {
      "cell_type": "code",
      "metadata": {
        "id": "OTjMi25VB9XN"
      },
      "source": [
        "bucketized_age = tf.feature_column.bucketized_column(\n",
        "    housing_median_age, boundaries=[-1., -0.5, 0., 0.5, 1.]) # age was scaled\n",
        "age_and_ocean_proximity = tf.feature_column.crossed_column(\n",
        "    [bucketized_age, ocean_proximity], hash_bucket_size=100)"
      ],
      "execution_count": null,
      "outputs": []
    },
    {
      "cell_type": "markdown",
      "metadata": {
        "id": "zku-kmsrIP2a"
      },
      "source": [
        "You start by bucketizing the latitude and longitude, for example into 20 buckets each, then you cross these bucketized features into a loca tion column. This will create a 20×20 grid over California, and each cell in the grid will correspond to one category."
      ]
    },
    {
      "cell_type": "code",
      "metadata": {
        "id": "TuiTcka-B9XN"
      },
      "source": [
        "latitude = tf.feature_column.numeric_column(\"latitude\")\n",
        "longitude = tf.feature_column.numeric_column(\"longitude\")\n",
        "bucketized_latitude = tf.feature_column.bucketized_column(\n",
        "    latitude, boundaries=list(np.linspace(32., 42., 20 - 1)))\n",
        "bucketized_longitude = tf.feature_column.bucketized_column(\n",
        "    longitude, boundaries=list(np.linspace(-125., -114., 20 - 1)))\n",
        "location = tf.feature_column.crossed_column(\n",
        "    [bucketized_latitude, bucketized_longitude], hash_bucket_size=1000)"
      ],
      "execution_count": null,
      "outputs": []
    },
    {
      "cell_type": "markdown",
      "metadata": {
        "id": "qEIa2KNaJvjD"
      },
      "source": [
        "## <font color='#E123EC'> **Encoding Categorical Features**</font>\n",
        "No matter which option you choose to build a categorical feature (categorical columns, bucketized columns or crossed columns), it must be **encoded** before you can feed it to a neural network. \n",
        "* Encoding has the size of the vocabulary length.\n",
        "\n",
        "<font color='#123EC'>**There are two options to encode a categorical feature:**</font>\n",
        "\n",
        "* A **one-hot vector** encoding, which is fine if there are just a few possible categories (small vecabulary).\n",
        "* An **embeddings** encoding, which will typically be the case when you use hash buckets(large vocabulary).\n",
        "\n",
        "<font color='#123EC'> **Why we choudn't use *one-hot* if the vocabulary is large?**</font>\n",
        "\n",
        "As we will end up with too many inputs fed to your neural network and it will have too many weights to learn and it.\n",
        "\n",
        "<font color='#123EC'> **As a rule of thumb**</font>\n",
        "* If the number of categories is **lower than 10**, then **one-hot** encoding is generally the way to go. \n",
        "\n",
        "* If the number of categories **is greater than 50** (which is often the case when you use hash buckets), then **embeddings** are usually preferable. \n",
        "\n",
        "* In** between 10 and 50** categories, you may want to **experiment with both** options and see which one works best for your use case. \n",
        "\n",
        "> <font color='#3EC08A'> Embeddings typically require more training data, unless you can reuse pretrained embeddings."
      ]
    },
    {
      "cell_type": "markdown",
      "metadata": {
        "id": "ySsod7TzNlDS"
      },
      "source": [
        "### <font color='#0C92AC'>**Encoding Categorical Features Using One-Hot Vectors**</font>"
      ]
    },
    {
      "cell_type": "code",
      "metadata": {
        "id": "spbM0UpKB9XO"
      },
      "source": [
        "ocean_proximity_one_hot = tf.feature_column.indicator_column(ocean_proximity)"
      ],
      "execution_count": null,
      "outputs": []
    },
    {
      "cell_type": "markdown",
      "metadata": {
        "id": "N7WTyaUvNnFJ"
      },
      "source": [
        "### <font color='#0C92AC'>**Encoding Categorical Features Using Embeddings**</font> \n",
        "\n",
        "An embedding is a **trainable dense** vector that represents a category. \n",
        "\n",
        "* By default, embeddings are initialized randomly, so for example the \"NEAR BAY\" category could be represented initially by a random vector such as [0.131, 0.890], while the \"NEAR OCEAN\" category may be represented by another random vector such as [0.631, 0.791].\n",
        "* The number of dimensions is a hyperparameter you can tweak.\n",
        "* Since these embeddings are trainable, they will gradually improve during training.\n",
        "* They represent fairly similar categories, Gradient Descent will certainly end up pushing them closer together, while it will tend to move them away from the \"INLAND\" category’s embedding.\n",
        "<center>\n",
        "<img src='https://img-blog.csdnimg.cn/20200812174922657.png?x-oss-process=image/watermark,type_ZmFuZ3poZW5naGVpdGk,shadow_10,text_aHR0cHM6Ly9ibG9nLmNzZG4ubmV0L0xpbmxpNTIyMzYyMjQy,size_16,color_FFFFFF,t_70' height = '175' width= '400' /> <figcaption ><font color='#2085E0'>Loading and Preprocessing Data From Multiple CSV Files.</figcaption>\n",
        "</center>\n",
        "\n",
        "* Indeed, the better the representation, the easier it will be for the neural network to make accurate predictions.\n",
        "\n",
        "> <font color='#3EC08A'> So training tends to make embeddings useful representations of the categories. This is called representation learning.\n"
      ]
    },
    {
      "cell_type": "code",
      "metadata": {
        "id": "--tlkPU0B9XO"
      },
      "source": [
        "ocean_proximity_embed = tf.feature_column.embedding_column(ocean_proximity,\n",
        "                                                           dimension=2)"
      ],
      "execution_count": null,
      "outputs": []
    },
    {
      "cell_type": "markdown",
      "metadata": {
        "id": "YuyiBkC3SEnb"
      },
      "source": [
        "* Each of the five `ocean_proximity` categories will now be represented as a 2D vector. \n",
        "* These vectors are stored in an embedding matrix with **one row per category**, and **one column per embedding dimension**\n",
        "* In this example it is a 5×2 matrix.\n",
        "\n",
        "<font color='#123EC'>**Solving the large embedding matrix**</font>\n",
        "1. Try lowering the dimension hyperparameter, but if you reduce this parameter too much, the representations may not be as good.\n",
        "2. Reduce the vocabulary size.\n",
        "    * If you are dealing with text, you can try dropping the rare words from the vocabulary, and replace them all with a token like `<unknown>` or `<UNK>`.\n",
        "3. If you are using hash buckets, you can also try reducing the `hash_bucket_size`.\n",
        "    * If you reduce the `hash_bucket_size` too much, you will get collisions.\n",
        "\n",
        "<font color='#123EC'>**If there are no pretrained embeddings that you can reuse for the task </font> trying to tackle.**\n",
        "\n",
        "<font color='#00AE0'>**if you do not have enough training data to learn them, then </font> try to learn them on some auxiliary task.**\n",
        "\n",
        "After that, you can reuse the trained embeddings for your main task.\n",
        "\n"
      ]
    },
    {
      "cell_type": "markdown",
      "metadata": {
        "id": "5E_s66jjB9XO"
      },
      "source": [
        "## <font color='#E123EC'> **Using Feature Columns for Parsing**</font>\n",
        "* You have created feature columns for each of your input features, as well as for the target.\n",
        "* You can pass them to the `make_parse_example_spec()` function to generate feature descriptions."
      ]
    },
    {
      "cell_type": "code",
      "metadata": {
        "id": "ayn3V46aB9XO"
      },
      "source": [
        "median_house_value = tf.feature_column.numeric_column(\"median_house_value\")"
      ],
      "execution_count": null,
      "outputs": []
    },
    {
      "cell_type": "markdown",
      "metadata": {
        "id": "-ldbEamnWtgl"
      },
      "source": [
        "You have created feature columns for each of your input features, as well as for the target\n",
        "\n",
        "\n",
        "```\n",
        "columns = [bucketized_age, ....., median_house_value] # all features + target\n",
        "```\n",
        "\n",
        "\n",
        "* Instead of having 2 numerical feature columns, you could choose to have a single 2D column as follows."
      ]
    },
    {
      "cell_type": "code",
      "metadata": {
        "id": "RO6lduTaB9XO",
        "outputId": "e730cba3-5f0b-452a-f08d-b3db3c51da71"
      },
      "source": [
        "columns = [housing_median_age, median_house_value]\n",
        "feature_descriptions = tf.feature_column.make_parse_example_spec(columns)\n",
        "feature_descriptions"
      ],
      "execution_count": null,
      "outputs": [
        {
          "output_type": "execute_result",
          "data": {
            "text/plain": [
              "{'housing_median_age': FixedLenFeature(shape=(1,), dtype=tf.float32, default_value=None),\n",
              " 'median_house_value': FixedLenFeature(shape=(1,), dtype=tf.float32, default_value=None)}"
            ]
          },
          "metadata": {
            "tags": []
          },
          "execution_count": 101
        }
      ]
    },
    {
      "cell_type": "markdown",
      "metadata": {
        "id": "rN2mkAmLXrvS"
      },
      "source": [
        "Creating a function that parses serialized examples using these feature descriptions, and separates the target column from the input features."
      ]
    },
    {
      "cell_type": "code",
      "metadata": {
        "id": "k2lbcWkzB9XO"
      },
      "source": [
        "keras.backend.clear_session()\n",
        "np.random.seed(42)\n",
        "tf.random.set_seed(42)"
      ],
      "execution_count": null,
      "outputs": []
    },
    {
      "cell_type": "code",
      "metadata": {
        "id": "c4FEjgGBYAKG"
      },
      "source": [
        "def parse_examples(serialized_examples):\n",
        "    examples = tf.io.parse_example(serialized_examples, feature_descriptions)\n",
        "    targets = examples.pop(\"median_house_value\") # separate the targets\n",
        "    return examples, targets"
      ],
      "execution_count": null,
      "outputs": []
    },
    {
      "cell_type": "markdown",
      "metadata": {
        "id": "S8XvxR8YX6RK"
      },
      "source": [
        "Next, you can create a TFRecordDataset that will read batches of serialized examples"
      ]
    },
    {
      "cell_type": "code",
      "metadata": {
        "id": "4P060i4VB9XO"
      },
      "source": [
        "with tf.io.TFRecordWriter(\"my_data_with_features.tfrecords\") as f:\n",
        "    for x, y in zip(X_train[:, 1:2], y_train):\n",
        "        example = Example(features=Features(feature={\n",
        "            \"housing_median_age\": Feature(float_list=FloatList(value=[x])),\n",
        "            \"median_house_value\": Feature(float_list=FloatList(value=[y]))\n",
        "        }))\n",
        "        f.write(example.SerializeToString())\n",
        "        "
      ],
      "execution_count": null,
      "outputs": []
    },
    {
      "cell_type": "code",
      "metadata": {
        "id": "LumM0HhuB9XO"
      },
      "source": [
        "batch_size = 32\n",
        "dataset = tf.data.TFRecordDataset([\"my_data_with_features.tfrecords\"])\n",
        "dataset = dataset.repeat().shuffle(10000).batch(batch_size).map(parse_examples)"
      ],
      "execution_count": null,
      "outputs": []
    },
    {
      "cell_type": "markdown",
      "metadata": {
        "id": "RvPCe3GcVASz"
      },
      "source": [
        "## <font color='#E123EC'> **Using Feature Columns in Your Models** <font color='red'>(this is what i need)</font>\n",
        "\n",
        "Feature columns can also be used directly in your model, to convert all your input features into a single dense vector \n",
        "* All you need to do is add a `keras.layers.DenseFeature`s layer as the **first** layer in your model, passing it the list of feature columns (excluding the target column).\n",
        "* `keras.layers.DenseFeature` will also apply any extra transformation we specified, such as **scaling** the `housing_median_age` using the `normalizer_fn` function we provided.\n"
      ]
    },
    {
      "cell_type": "markdown",
      "metadata": {
        "id": "7oweIGKjB9XO"
      },
      "source": [
        "**Warning**: the `DenseFeatures` layer currently does not work with the Functional API, see [TF issue #27416](https://github.com/tensorflow/tensorflow/issues/27416). Hopefully this will be resolved before the final release of TF 2.0."
      ]
    },
    {
      "cell_type": "code",
      "metadata": {
        "id": "JTLz1e9qB9XO",
        "outputId": "309605c0-949a-4c8a-b0d5-68a5b855f5b6"
      },
      "source": [
        "columns_without_target = columns[:-1]\n",
        "model = keras.models.Sequential([\n",
        "    keras.layers.DenseFeatures(feature_columns=columns_without_target),\n",
        "    keras.layers.Dense(1)\n",
        "])\n",
        "model.compile(loss=\"mse\",\n",
        "              optimizer=keras.optimizers.SGD(lr=1e-3),\n",
        "              metrics=[\"accuracy\"])\n",
        "model.fit(dataset, steps_per_epoch=len(X_train) // batch_size, epochs=5)"
      ],
      "execution_count": null,
      "outputs": [
        {
          "output_type": "stream",
          "text": [
            "Epoch 1/5\n",
            "WARNING:tensorflow:Layers in a Sequential model should only have a single input tensor, but we receive a <class 'dict'> input: {'housing_median_age': <tf.Tensor 'IteratorGetNext:0' shape=(None, 1) dtype=float32>}\n",
            "Consider rewriting this model with the Functional API.\n",
            "WARNING:tensorflow:Layers in a Sequential model should only have a single input tensor, but we receive a <class 'dict'> input: {'housing_median_age': <tf.Tensor 'IteratorGetNext:0' shape=(None, 1) dtype=float32>}\n",
            "Consider rewriting this model with the Functional API.\n",
            "362/362 [==============================] - 0s 675us/step - loss: 4.7553 - accuracy: 8.8428e-04\n",
            "Epoch 2/5\n",
            "362/362 [==============================] - 0s 622us/step - loss: 2.1622 - accuracy: 0.0021\n",
            "Epoch 3/5\n",
            "362/362 [==============================] - 0s 583us/step - loss: 1.4673 - accuracy: 0.0032\n",
            "Epoch 4/5\n",
            "362/362 [==============================] - 0s 543us/step - loss: 1.3786 - accuracy: 0.0033\n",
            "Epoch 5/5\n",
            "362/362 [==============================] - 0s 537us/step - loss: 1.3404 - accuracy: 0.0034\n"
          ],
          "name": "stdout"
        },
        {
          "output_type": "execute_result",
          "data": {
            "text/plain": [
              "<tensorflow.python.keras.callbacks.History at 0x7fd532a6ffd0>"
            ]
          },
          "metadata": {
            "tags": []
          },
          "execution_count": 105
        }
      ]
    },
    {
      "cell_type": "markdown",
      "metadata": {
        "id": "ojFTmbUqZUdi"
      },
      "source": [
        "We create a `DenseFeatures` layer with just two columns.\n",
        "   * The `bucketized_income` column relies on the `median_income` column, the dictionary must include the **median_income** key.\n",
        "   \n",
        "`boundaries=[1.5, 3., 4.5, 6.]`\n",
        "      \n",
        "      * Category 0 for incomes below 1.5\n",
        "      * Category 1 for incomes between 1.5 and 3.\n",
        "      * Category 2 for incomes between 3 and 4.5.\n",
        "      * Category 3 for incomes between 4.5 and 6.\n",
        "      * Category 4 for incomes greater than 6. \n",
        "      **Ex: The incomes 3, 7.2 and 1 get mapped respectively to category:**\n",
        "      * 3    => cat 2 => $\\text{one-hot}=[0., 0., 1., 0., 0.]$\n",
        "      * 7.2  => cat 4 => $\\text{one-hot}=[0., 0., 0., 0., 1.]$\n",
        "      * 1    => cat 0 => $\\text{one-hot}=[0., 0., 0., 0., 0.]$\n",
        "      * Note that bucketized columns get one-hot encoded by default, no need to call `indicator_column`.\n",
        "\n",
        "* The `ocean_proximity_embed` column is based on the `ocean_proximity` column, the dictionary must include the **ocean_proximity** key.\n",
        "    * The *NEAR OCEAN* and *INLAND* categories just get mapped to their respective embeddings *which were initialized randomly*.\n",
        "\n",
        "The resulting tensor is the concatenation of the one-hot vectors and the embeddings"
      ]
    },
    {
      "cell_type": "code",
      "metadata": {
        "id": "2wyOZjpqB9XP",
        "outputId": "d2011c23-9857-424b-b320-004ca0d8362e"
      },
      "source": [
        "some_columns = [ocean_proximity_embed, bucketized_income]\n",
        "dense_features = keras.layers.DenseFeatures(some_columns)\n",
        "dense_features({\n",
        "    \"ocean_proximity\": [[\"NEAR OCEAN\"], [\"INLAND\"], [\"INLAND\"]],\n",
        "    \"median_income\": [[3.], [7.2], [1.]]\n",
        "})"
      ],
      "execution_count": null,
      "outputs": [
        {
          "output_type": "execute_result",
          "data": {
            "text/plain": [
              "<tf.Tensor: shape=(3, 7), dtype=float32, numpy=\n",
              "array([[ 0.        ,  0.        ,  1.        ,  0.        ,  0.        ,\n",
              "        -0.14504611,  0.7563394 ],\n",
              "       [ 0.        ,  0.        ,  0.        ,  0.        ,  1.        ,\n",
              "        -1.1119912 ,  0.56957847],\n",
              "       [ 1.        ,  0.        ,  0.        ,  0.        ,  0.        ,\n",
              "        -1.1119912 ,  0.56957847]], dtype=float32)>"
            ]
          },
          "metadata": {
            "tags": []
          },
          "execution_count": 106
        }
      ]
    },
    {
      "cell_type": "markdown",
      "metadata": {
        "id": "Bo7A09FDf1BC"
      },
      "source": [
        "Now you can feed all kinds of features to a neural network, including **numerical** features, **categorical** features, and even **text** (by splitting the text into words, then using word embedding)\n",
        "\n",
        "However, performing all the preprocessing on the fly can **slow down training**."
      ]
    },
    {
      "cell_type": "markdown",
      "metadata": {
        "id": "WpJyr07RjpHP"
      },
      "source": [
        "# <font color='#8010CA'>**Handling The Computationally Expensive Of The Preprocessing**</font> \n",
        "\n",
        "* Handling the data will be preprocessed just **once per instance before training**, rather than once per instance and per epoch during training.\n",
        "\n",
        "* Tools like **Apache Beam** let you run efficient data processing pipelines over large amounts of data.\n",
        "\n",
        "    * <font color='red'>**Problem**</font>: once your model is trained, suppose you want to deploy it to a mobile app: you will need to **write some code in your app** to take care of preprocessing the data before it is fed to the model and the same thing when run it in a web browser.\n",
        "    * Aso, whenever you want to change the preprocessing logic, you will need to **update** your **Apache Beam** code, your mobile **app** code and your **Javascript** code. It is not only *time consuming, but also error prone.*\n",
        "    * <font color='blue'>**Improvement**</font>: before deploying it to your app or the browser, add an extra input layer (`DenseFeatures`) to take care of preprocessing on the fly\n",
        "\n",
        "But what if you could define your preprocessing operations just once? This is what **TF Transform** was designed for."
      ]
    },
    {
      "cell_type": "markdown",
      "metadata": {
        "id": "-1yFkG73B9XP"
      },
      "source": [
        "# <font color='#8010CA'>**TF Transform**</font>\n",
        "\n",
        "It is part of TensorFlow Extended (TFX), an end-to end platform for productionizing TensorFlow models. \n",
        "\n",
        "1. Install it, it does not come bundled with TensorFlow. \n",
        "\n",
        "2. Define your preprocessing function just once.\n",
        "   * Using TF Transform functions for scaling, bucketizing, crossing features, and more.\n",
        "   * You can also use any TensorFlow operation you need.\n",
        "3. TF Transform lets you apply this `preprocess()` function to the whole training set using **Apache Beam**.\n",
        "   * It provides an `AnalyzeAndTransformDataset` class that you can use for this purpose in your **Apache Beam** pipeline.\n",
        "   * In the process, it will also compute all the necessary statistics over the whole training set: in this example, the **mean** and **std** of the `housing_median_age` feature, and the vocabulary for the `ocean_proximity` feature.\n",
        "   * The components that compute these statistics are called **analyzers**.\n",
        "\n",
        "\n",
        ">TF Transform only supports TensorFlow 1. Moreover, Apache Beam only has partial support for Python 3."
      ]
    },
    {
      "cell_type": "code",
      "metadata": {
        "id": "wQth1ruqB9XP"
      },
      "source": [
        "try:\n",
        "    import tensorflow_transform as tft\n",
        "\n",
        "    def preprocess(inputs):  # inputs is a batch of input features\n",
        "        median_age = inputs[\"housing_median_age\"]\n",
        "        ocean_proximity = inputs[\"ocean_proximity\"]\n",
        "        standardized_age = tft.scale_to_z_score(median_age - tft.mean(median_age))\n",
        "        ocean_proximity_id = tft.compute_and_apply_vocabulary(ocean_proximity)\n",
        "        return {\n",
        "            \"standardized_median_age\": standardized_age,\n",
        "            \"ocean_proximity_id\": ocean_proximity_id\n",
        "        }\n",
        "except ImportError:\n",
        "    print(\"TF Transform is not installed. Try running: pip3 install -U tensorflow-transform\")"
      ],
      "execution_count": null,
      "outputs": []
    },
    {
      "cell_type": "markdown",
      "metadata": {
        "id": "hPhhoYKgB9XP"
      },
      "source": [
        "# <font color='#8010CA'>**The TensorFlow Datasets (TFDS) Project**</font> \n",
        "\n",
        "With the Data API, TFRecords, the Features API and TF Transform, you can build highly scalable input pipelines for training, and also benefit from fast and portable data preprocessing in production. But what if you just wanted to use a standard dataset? Well in that case, things are much simpler: just use TFDS!"
      ]
    },
    {
      "cell_type": "markdown",
      "metadata": {
        "id": "qORs6OxnpP-Y"
      },
      "source": [
        "Download common [datasets](https://homl.info/tfds), from small ones like MNIST or Fashion MNIST, to huge datasets like ImageNet.\n",
        "\n",
        "1. TFDS is not bundled with TensorFlow, so you need to install the `tensorflowdatasets` library (e.g., using pip).\n",
        "\n",
        "2. Call the `tfds.load()` function, and it will download the data you want.\n",
        "3. Return the data as a dictionary of Datasets.\n",
        "4. You can then apply any transformation you want (typically repeating, batching and prefetching).\n",
        "5. You’re ready to train your model.\n"
      ]
    },
    {
      "cell_type": "code",
      "metadata": {
        "id": "UX0QQgZNB9XP",
        "colab": {
          "referenced_widgets": [
            "766787dcfced4b7db1d4d66559378f1b"
          ]
        },
        "outputId": "f8932a33-2969-4cf8-873e-e6b8fa1f591d"
      },
      "source": [
        "import tensorflow_datasets as tfds\n",
        "\n",
        "datasets = tfds.load(name=\"mnist\")\n",
        "mnist_train, mnist_test = datasets[\"train\"], datasets[\"test\"]"
      ],
      "execution_count": null,
      "outputs": [
        {
          "output_type": "stream",
          "text": [
            "WARNING:absl:Found a different version of the requested dataset:\n",
            "/Users/ageron/tensorflow_datasets/mnist/3.0.0\n",
            "Using /Users/ageron/tensorflow_datasets/mnist/3.0.1 instead.\n"
          ],
          "name": "stderr"
        },
        {
          "output_type": "stream",
          "text": [
            "\u001b[1mDownloading and preparing dataset mnist/3.0.1 (download: 11.06 MiB, generated: 21.00 MiB, total: 32.06 MiB) to /Users/ageron/tensorflow_datasets/mnist/3.0.1...\u001b[0m\n"
          ],
          "name": "stdout"
        },
        {
          "output_type": "stream",
          "text": [
            "WARNING:absl:Dataset mnist is hosted on GCS. It will automatically be downloaded to your\n",
            "local data directory. If you'd instead prefer to read directly from our public\n",
            "GCS bucket (recommended if you're running on GCP), you can instead set\n",
            "data_dir=gs://tfds-data/datasets.\n",
            "\n"
          ],
          "name": "stderr"
        },
        {
          "output_type": "display_data",
          "data": {
            "application/vnd.jupyter.widget-view+json": {
              "model_id": "766787dcfced4b7db1d4d66559378f1b",
              "version_major": 2,
              "version_minor": 0
            },
            "text/plain": [
              "Dl Completed...:   0%|          | 0/4 [00:00<?, ? file/s]"
            ]
          },
          "metadata": {
            "tags": []
          }
        },
        {
          "output_type": "stream",
          "text": [
            "\n",
            "\u001b[1mDataset mnist downloaded and prepared to /Users/ageron/tensorflow_datasets/mnist/3.0.1. Subsequent calls will reuse this data.\u001b[0m\n"
          ],
          "name": "stdout"
        }
      ]
    },
    {
      "cell_type": "code",
      "metadata": {
        "id": "UXfMH0PsB9XP",
        "outputId": "10ec0d30-803a-4555-d9ef-a696dd2f04f8"
      },
      "source": [
        "print(tfds.list_builders())"
      ],
      "execution_count": null,
      "outputs": [
        {
          "output_type": "stream",
          "text": [
            "['abstract_reasoning', 'aeslc', 'aflw2k3d', 'amazon_us_reviews', 'arc', 'bair_robot_pushing_small', 'beans', 'big_patent', 'bigearthnet', 'billsum', 'binarized_mnist', 'binary_alpha_digits', 'blimp', 'c4', 'caltech101', 'caltech_birds2010', 'caltech_birds2011', 'cars196', 'cassava', 'cats_vs_dogs', 'celeb_a', 'celeb_a_hq', 'cfq', 'chexpert', 'cifar10', 'cifar100', 'cifar10_1', 'cifar10_corrupted', 'citrus_leaves', 'cityscapes', 'civil_comments', 'clevr', 'cmaterdb', 'cnn_dailymail', 'coco', 'coil100', 'colorectal_histology', 'colorectal_histology_large', 'common_voice', 'cos_e', 'crema_d', 'curated_breast_imaging_ddsm', 'cycle_gan', 'deep_weeds', 'definite_pronoun_resolution', 'dementiabank', 'diabetic_retinopathy_detection', 'div2k', 'dmlab', 'downsampled_imagenet', 'dsprites', 'dtd', 'duke_ultrasound', 'emnist', 'eraser_multi_rc', 'esnli', 'eurosat', 'fashion_mnist', 'flic', 'flores', 'food101', 'forest_fires', 'gap', 'geirhos_conflict_stimuli', 'german_credit_numeric', 'gigaword', 'glue', 'groove', 'higgs', 'horses_or_humans', 'i_naturalist2017', 'image_label_folder', 'imagenet2012', 'imagenet2012_corrupted', 'imagenet2012_subset', 'imagenet_resized', 'imagenette', 'imagewang', 'imdb_reviews', 'iris', 'kitti', 'kmnist', 'lfw', 'librispeech', 'librispeech_lm', 'libritts', 'ljspeech', 'lm1b', 'lost_and_found', 'lsun', 'malaria', 'math_dataset', 'mnist', 'mnist_corrupted', 'movie_rationales', 'moving_mnist', 'multi_news', 'multi_nli', 'multi_nli_mismatch', 'natural_questions', 'newsroom', 'nsynth', 'omniglot', 'open_images_challenge2019_detection', 'open_images_v4', 'opinosis', 'oxford_flowers102', 'oxford_iiit_pet', 'para_crawl', 'patch_camelyon', 'pet_finder', 'places365_small', 'plant_leaves', 'plant_village', 'plantae_k', 'qa4mre', 'quickdraw_bitmap', 'reddit', 'reddit_tifu', 'resisc45', 'robonet', 'rock_paper_scissors', 'rock_you', 'savee', 'scan', 'scene_parse150', 'scicite', 'scientific_papers', 'shapes3d', 'smallnorb', 'snli', 'so2sat', 'speech_commands', 'squad', 'stanford_dogs', 'stanford_online_products', 'starcraft_video', 'stl10', 'sun397', 'super_glue', 'svhn_cropped', 'ted_hrlr_translate', 'ted_multi_translate', 'tedlium', 'tf_flowers', 'the300w_lp', 'tiny_shakespeare', 'titanic', 'trivia_qa', 'uc_merced', 'ucf101', 'vgg_face2', 'visual_domain_decathlon', 'voc', 'voxceleb', 'waymo_open_dataset', 'web_questions', 'wider_face', 'wiki40b', 'wikihow', 'wikipedia', 'wmt14_translate', 'wmt15_translate', 'wmt16_translate', 'wmt17_translate', 'wmt18_translate', 'wmt19_translate', 'wmt_t2t_translate', 'wmt_translate', 'xnli', 'xsum', 'yelp_polarity_reviews']\n"
          ],
          "name": "stdout"
        }
      ]
    },
    {
      "cell_type": "code",
      "metadata": {
        "id": "2baK3y0bB9XP",
        "outputId": "694773a8-d9d4-42b9-cc0a-6df69a40eedf"
      },
      "source": [
        "plt.figure(figsize=(6,3))\n",
        "mnist_train = mnist_train.repeat(5).batch(32).prefetch(1)\n",
        "for item in mnist_train:\n",
        "    images = item[\"image\"]\n",
        "    labels = item[\"label\"]\n",
        "    for index in range(5):\n",
        "        plt.subplot(1, 5, index + 1)\n",
        "        image = images[index, ..., 0]\n",
        "        label = labels[index].numpy()\n",
        "        plt.imshow(image, cmap=\"binary\")\n",
        "        plt.title(label)\n",
        "        plt.axis(\"off\")\n",
        "    break # just showing part of the first batch"
      ],
      "execution_count": null,
      "outputs": [
        {
          "output_type": "display_data",
          "data": {
            "image/png": "[encoded data removed]",
            "text/plain": [
              "<Figure size 432x216 with 5 Axes>"
            ]
          },
          "metadata": {
            "tags": [],
            "needs_background": "light"
          }
        }
      ]
    },
    {
      "cell_type": "markdown",
      "metadata": {
        "id": "wcZofdzXqzBL"
      },
      "source": [
        "> In general, `load()` returns a shuffled training set, so there’s no need to shuffle it some more.\n",
        "\n",
        "> Note that each item in the dataset is a dictionary containing both the features and the labels. But Keras expects each item to be a tuple containing 2 elements so, you could transform the dataset using the `map()` method."
      ]
    },
    {
      "cell_type": "code",
      "metadata": {
        "id": "YnlqIuAmB9XP",
        "outputId": "7ce144bf-8285-4901-fba9-86047d50ab8a"
      },
      "source": [
        "datasets = tfds.load(name=\"mnist\")\n",
        "mnist_train, mnist_test = datasets[\"train\"], datasets[\"test\"]\n",
        "mnist_train = mnist_train.repeat(5).batch(32)\n",
        "mnist_train = mnist_train.map(lambda items: (items[\"image\"], items[\"label\"]))\n",
        "mnist_train = mnist_train.prefetch(1)\n",
        "for images, labels in mnist_train.take(1):\n",
        "    print(images.shape)\n",
        "    print(labels.numpy())"
      ],
      "execution_count": null,
      "outputs": [
        {
          "output_type": "stream",
          "text": [
            "(32, 28, 28, 1)\n",
            "[4 1 0 7 8 1 2 7 1 6 6 4 7 7 3 3 7 9 9 1 0 6 6 9 9 4 8 9 4 7 3 3]\n"
          ],
          "name": "stdout"
        }
      ]
    },
    {
      "cell_type": "code",
      "metadata": {
        "id": "e29j1D2tB9XQ"
      },
      "source": [
        "keras.backend.clear_session()\n",
        "np.random.seed(42)\n",
        "tf.random.set_seed(42)"
      ],
      "execution_count": null,
      "outputs": []
    },
    {
      "cell_type": "markdown",
      "metadata": {
        "id": "xxFT0PVKrQ8g"
      },
      "source": [
        "Or you can just ask the `load()` function to do this for you by setting `as_super vised=True`.\n",
        " * Obviously this works only for labeled datasets.\n",
        "\n",
        "You can also specify the batch size if you want."
      ]
    },
    {
      "cell_type": "code",
      "metadata": {
        "id": "kVgUP1DnB9XQ",
        "outputId": "94388f38-7909-4bbf-93c7-a92065f7d967"
      },
      "source": [
        "datasets = tfds.load(name=\"mnist\", batch_size=32, as_supervised=True)\n",
        "mnist_train = datasets[\"train\"].repeat().prefetch(1)\n",
        "model = keras.models.Sequential([\n",
        "    keras.layers.Flatten(input_shape=[28, 28, 1]),\n",
        "    keras.layers.Lambda(lambda images: tf.cast(images, tf.float32)),\n",
        "    keras.layers.Dense(10, activation=\"softmax\")])\n",
        "model.compile(loss=\"sparse_categorical_crossentropy\",\n",
        "              optimizer=keras.optimizers.SGD(lr=1e-3),\n",
        "              metrics=[\"accuracy\"])\n",
        "model.fit(mnist_train, steps_per_epoch=60000 // 32, epochs=5)"
      ],
      "execution_count": null,
      "outputs": [
        {
          "output_type": "stream",
          "text": [
            "Epoch 1/5\n",
            "1875/1875 [==============================] - 2s 997us/step - loss: 42.8499 - accuracy: 0.8034\n",
            "Epoch 2/5\n",
            "1875/1875 [==============================] - 1s 481us/step - loss: 25.1669 - accuracy: 0.8687\n",
            "Epoch 3/5\n",
            "1875/1875 [==============================] - 1s 460us/step - loss: 24.1730 - accuracy: 0.8744\n",
            "Epoch 4/5\n",
            "1875/1875 [==============================] - 1s 446us/step - loss: 23.7216 - accuracy: 0.8760\n",
            "Epoch 5/5\n",
            "1875/1875 [==============================] - 1s 444us/step - loss: 23.1382 - accuracy: 0.8786\n"
          ],
          "name": "stdout"
        },
        {
          "output_type": "execute_result",
          "data": {
            "text/plain": [
              "<tensorflow.python.keras.callbacks.History at 0x7fd515158c90>"
            ]
          },
          "metadata": {
            "tags": []
          },
          "execution_count": 113
        }
      ]
    },
    {
      "cell_type": "markdown",
      "metadata": {
        "id": "qYvJvFjoB9XQ"
      },
      "source": [
        "# <font color='#8010CA'>**The TensorFlow Hub**</font> \n",
        "\n",
        "مش عارفه اي دا اصلا\n",
        "\n"
      ]
    },
    {
      "cell_type": "code",
      "metadata": {
        "id": "F8_p8NiDB9XQ"
      },
      "source": [
        "keras.backend.clear_session()\n",
        "np.random.seed(42)\n",
        "tf.random.set_seed(42)"
      ],
      "execution_count": null,
      "outputs": []
    },
    {
      "cell_type": "code",
      "metadata": {
        "id": "wUVUOU1QB9XQ",
        "outputId": "f8e90be8-5934-4ade-a93b-3a563bda7bfe"
      },
      "source": [
        "import tensorflow_hub as hub\n",
        "\n",
        "hub_layer = hub.KerasLayer(\"https://tfhub.dev/google/tf2-preview/nnlm-en-dim50/1\",\n",
        "                           output_shape=[50], input_shape=[], dtype=tf.string)\n",
        "\n",
        "model = keras.Sequential()\n",
        "model.add(hub_layer)\n",
        "model.add(keras.layers.Dense(16, activation='relu'))\n",
        "model.add(keras.layers.Dense(1, activation='sigmoid'))\n",
        "\n",
        "model.summary()"
      ],
      "execution_count": null,
      "outputs": [
        {
          "output_type": "stream",
          "text": [
            "Model: \"sequential\"\n",
            "_________________________________________________________________\n",
            "Layer (type)                 Output Shape              Param #   \n",
            "=================================================================\n",
            "keras_layer (KerasLayer)     (None, 50)                48190600  \n",
            "_________________________________________________________________\n",
            "dense (Dense)                (None, 16)                816       \n",
            "_________________________________________________________________\n",
            "dense_1 (Dense)              (None, 1)                 17        \n",
            "=================================================================\n",
            "Total params: 48,191,433\n",
            "Trainable params: 833\n",
            "Non-trainable params: 48,190,600\n",
            "_________________________________________________________________\n"
          ],
          "name": "stdout"
        }
      ]
    },
    {
      "cell_type": "code",
      "metadata": {
        "id": "ivop_sRyB9XQ"
      },
      "source": [
        "sentences = tf.constant([\"It was a great movie\", \"The actors were amazing\"])\n",
        "embeddings = hub_layer(sentences)"
      ],
      "execution_count": null,
      "outputs": []
    },
    {
      "cell_type": "code",
      "metadata": {
        "id": "paDKaUo8B9XQ",
        "outputId": "84290ce1-4c0b-4176-bf5c-4cc8354c07e2"
      },
      "source": [
        "embeddings"
      ],
      "execution_count": null,
      "outputs": [
        {
          "output_type": "execute_result",
          "data": {
            "text/plain": [
              "<tf.Tensor: shape=(2, 50), dtype=float32, numpy=\n",
              "array([[ 7.45939985e-02,  2.76720114e-02,  9.38646123e-02,\n",
              "         1.25124469e-01,  5.40293928e-04, -1.09435350e-01,\n",
              "         1.34755149e-01, -9.57818255e-02, -1.85177118e-01,\n",
              "        -1.69703495e-02,  1.75612606e-02, -9.06603858e-02,\n",
              "         1.12110220e-01,  1.04646273e-01,  3.87700424e-02,\n",
              "        -7.71859884e-02, -3.12189370e-01,  6.99466765e-02,\n",
              "        -4.88970093e-02, -2.99049795e-01,  1.31183028e-01,\n",
              "        -2.12630898e-01,  6.96169436e-02,  1.63592950e-01,\n",
              "         1.05169769e-02,  7.79720694e-02, -2.55230188e-01,\n",
              "        -1.80790052e-01,  2.93739915e-01,  1.62875261e-02,\n",
              "        -2.80566931e-01,  1.60284728e-01,  9.87277832e-03,\n",
              "         8.44555616e-04,  8.39456245e-02,  3.24002892e-01,\n",
              "         1.53253034e-01, -3.01048346e-02,  8.94618109e-02,\n",
              "        -2.39153411e-02, -1.50188789e-01, -1.81733668e-02,\n",
              "        -1.20483577e-01,  1.32937476e-01, -3.35325629e-01,\n",
              "        -1.46504581e-01, -1.25251599e-02, -1.64428815e-01,\n",
              "        -7.00765476e-02,  3.60923223e-02],\n",
              "       [-1.56998575e-01,  4.24599349e-02, -5.57703003e-02,\n",
              "        -8.08446854e-03,  1.23733155e-01,  3.89427543e-02,\n",
              "        -4.37901802e-02, -1.86987907e-01, -2.29341656e-01,\n",
              "        -1.27766818e-01,  3.83025259e-02, -1.07057482e-01,\n",
              "        -6.11584112e-02,  2.49654502e-01, -1.39712945e-01,\n",
              "        -3.91289443e-02, -1.35873526e-01, -3.58613044e-01,\n",
              "         2.53462754e-02, -1.58370987e-01, -1.38350084e-01,\n",
              "        -3.90771806e-01, -6.63642734e-02, -3.24838236e-02,\n",
              "        -2.20453963e-02, -1.68282315e-01, -7.40613639e-02,\n",
              "        -2.49074101e-02,  2.46460736e-01,  9.87201929e-05,\n",
              "        -1.85390845e-01, -4.92824614e-02,  1.09015472e-01,\n",
              "        -9.54203904e-02, -1.60352528e-01, -2.59811729e-02,\n",
              "         1.13778859e-01, -2.09578887e-01,  2.18261331e-01,\n",
              "        -3.11211571e-02, -6.12562597e-02, -8.66057724e-02,\n",
              "        -1.10762455e-01, -5.73977083e-03, -1.08923554e-01,\n",
              "        -1.72919363e-01,  1.00515485e-01, -5.64153939e-02,\n",
              "        -4.97694984e-02, -1.07776590e-01]], dtype=float32)>"
            ]
          },
          "metadata": {
            "tags": []
          },
          "execution_count": 117
        }
      ]
    }
  ]
}